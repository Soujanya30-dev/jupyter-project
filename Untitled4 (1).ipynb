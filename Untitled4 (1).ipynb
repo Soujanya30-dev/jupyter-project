{
 "cells": [
  {
   "cell_type": "code",
   "execution_count": 1,
   "id": "96877b6e-7ca3-4307-8617-2a4361c8ad42",
   "metadata": {},
   "outputs": [],
   "source": [
    "#Step 1:Importing Libraries\n",
    "import pandas as pd  \n",
    "import numpy as np  \n",
    "import plotly.express as px\n",
    "import plotly.graph_objects as go\n",
    "from datetime import datetime  \n",
    "from nltk.sentiment.vader import SentimentIntensityAnalyzer\n",
    "import pytz  \n",
    "import plotly.graph_objects as go  \n",
    "import nltk\n",
    "import webbrowser\n",
    "import os"
   ]
  },
  {
   "cell_type": "code",
   "execution_count": 2,
   "id": "7d30cd74-0247-406b-9d7c-ecb1c8fcc4d3",
   "metadata": {},
   "outputs": [
    {
     "name": "stderr",
     "output_type": "stream",
     "text": [
      "[nltk_data] Downloading package vader_lexicon to\n",
      "[nltk_data]     C:\\Users\\souja\\AppData\\Roaming\\nltk_data...\n",
      "[nltk_data]   Package vader_lexicon is already up-to-date!\n"
     ]
    },
    {
     "data": {
      "text/plain": [
       "True"
      ]
     },
     "execution_count": 2,
     "metadata": {},
     "output_type": "execute_result"
    }
   ],
   "source": [
    "nltk.download('vader_lexicon')"
   ]
  },
  {
   "cell_type": "code",
   "execution_count": 3,
   "id": "6175f868-693d-4546-a9a6-7ca8dc670e13",
   "metadata": {},
   "outputs": [],
   "source": [
    "#Plot a time series line chart to show the trend of total installs over time, segmented by app category. Highlight periods of significant growth by\n",
    "#shading the areas under the curve where the increase in installs exceeds 20% month-over-month and app name should not starts with x, y ,z and app\n",
    "#category should start with letter \" E \" or \" C \" or \" B \" and We have to translate the Beauty category in Hindi and Business category in Tamil and\n",
    "#Dating category in German while showing it on Graph. reviews should be more than 500 the app name should not contain letter \"S\" as well as this graph\n",
    "#should work only between 6 PM IST to 9 PM IST apart from that time we should not show this graph in dashboard itself"
   ]
  },
  {
   "cell_type": "code",
   "execution_count": 4,
   "id": "426f3a17-0ba7-41ad-9120-02072c285620",
   "metadata": {},
   "outputs": [],
   "source": [
    "apps_df=pd.read_csv('Play Store Data.csv')\n",
    "reviews_df=pd.read_csv('User Reviews.csv')"
   ]
  },
  {
   "cell_type": "code",
   "execution_count": 5,
   "id": "97354577-604e-450a-9ae3-c4f640b2a255",
   "metadata": {},
   "outputs": [],
   "source": [
    "merged_df = pd.merge(apps_df, reviews_df, on='App', how='inner')"
   ]
  },
  {
   "cell_type": "code",
   "execution_count": 6,
   "id": "01ada5f3-4a2f-4452-91dc-8fb279cde8e3",
   "metadata": {},
   "outputs": [
    {
     "data": {
      "text/html": [
       "<div>\n",
       "<style scoped>\n",
       "    .dataframe tbody tr th:only-of-type {\n",
       "        vertical-align: middle;\n",
       "    }\n",
       "\n",
       "    .dataframe tbody tr th {\n",
       "        vertical-align: top;\n",
       "    }\n",
       "\n",
       "    .dataframe thead th {\n",
       "        text-align: right;\n",
       "    }\n",
       "</style>\n",
       "<table border=\"1\" class=\"dataframe\">\n",
       "  <thead>\n",
       "    <tr style=\"text-align: right;\">\n",
       "      <th></th>\n",
       "      <th>App</th>\n",
       "      <th>Category</th>\n",
       "      <th>Rating</th>\n",
       "      <th>Reviews</th>\n",
       "      <th>Size</th>\n",
       "      <th>Installs</th>\n",
       "      <th>Type</th>\n",
       "      <th>Price</th>\n",
       "      <th>Content Rating</th>\n",
       "      <th>Genres</th>\n",
       "      <th>Last Updated</th>\n",
       "      <th>Current Ver</th>\n",
       "      <th>Android Ver</th>\n",
       "      <th>Translated_Review</th>\n",
       "      <th>Sentiment</th>\n",
       "      <th>Sentiment_Polarity</th>\n",
       "      <th>Sentiment_Subjectivity</th>\n",
       "    </tr>\n",
       "  </thead>\n",
       "  <tbody>\n",
       "    <tr>\n",
       "      <th>0</th>\n",
       "      <td>Coloring book moana</td>\n",
       "      <td>ART_AND_DESIGN</td>\n",
       "      <td>3.9</td>\n",
       "      <td>967</td>\n",
       "      <td>14M</td>\n",
       "      <td>500,000+</td>\n",
       "      <td>Free</td>\n",
       "      <td>0</td>\n",
       "      <td>Everyone</td>\n",
       "      <td>Art &amp; Design;Pretend Play</td>\n",
       "      <td>January 15, 2018</td>\n",
       "      <td>2.0.0</td>\n",
       "      <td>4.0.3 and up</td>\n",
       "      <td>A kid's excessive ads. The types ads allowed a...</td>\n",
       "      <td>Negative</td>\n",
       "      <td>-0.250</td>\n",
       "      <td>1.000000</td>\n",
       "    </tr>\n",
       "    <tr>\n",
       "      <th>1</th>\n",
       "      <td>Coloring book moana</td>\n",
       "      <td>ART_AND_DESIGN</td>\n",
       "      <td>3.9</td>\n",
       "      <td>967</td>\n",
       "      <td>14M</td>\n",
       "      <td>500,000+</td>\n",
       "      <td>Free</td>\n",
       "      <td>0</td>\n",
       "      <td>Everyone</td>\n",
       "      <td>Art &amp; Design;Pretend Play</td>\n",
       "      <td>January 15, 2018</td>\n",
       "      <td>2.0.0</td>\n",
       "      <td>4.0.3 and up</td>\n",
       "      <td>It bad &gt;:(</td>\n",
       "      <td>Negative</td>\n",
       "      <td>-0.725</td>\n",
       "      <td>0.833333</td>\n",
       "    </tr>\n",
       "    <tr>\n",
       "      <th>2</th>\n",
       "      <td>Coloring book moana</td>\n",
       "      <td>ART_AND_DESIGN</td>\n",
       "      <td>3.9</td>\n",
       "      <td>967</td>\n",
       "      <td>14M</td>\n",
       "      <td>500,000+</td>\n",
       "      <td>Free</td>\n",
       "      <td>0</td>\n",
       "      <td>Everyone</td>\n",
       "      <td>Art &amp; Design;Pretend Play</td>\n",
       "      <td>January 15, 2018</td>\n",
       "      <td>2.0.0</td>\n",
       "      <td>4.0.3 and up</td>\n",
       "      <td>like</td>\n",
       "      <td>Neutral</td>\n",
       "      <td>0.000</td>\n",
       "      <td>0.000000</td>\n",
       "    </tr>\n",
       "    <tr>\n",
       "      <th>3</th>\n",
       "      <td>Coloring book moana</td>\n",
       "      <td>ART_AND_DESIGN</td>\n",
       "      <td>3.9</td>\n",
       "      <td>967</td>\n",
       "      <td>14M</td>\n",
       "      <td>500,000+</td>\n",
       "      <td>Free</td>\n",
       "      <td>0</td>\n",
       "      <td>Everyone</td>\n",
       "      <td>Art &amp; Design;Pretend Play</td>\n",
       "      <td>January 15, 2018</td>\n",
       "      <td>2.0.0</td>\n",
       "      <td>4.0.3 and up</td>\n",
       "      <td>NaN</td>\n",
       "      <td>NaN</td>\n",
       "      <td>NaN</td>\n",
       "      <td>NaN</td>\n",
       "    </tr>\n",
       "    <tr>\n",
       "      <th>4</th>\n",
       "      <td>Coloring book moana</td>\n",
       "      <td>ART_AND_DESIGN</td>\n",
       "      <td>3.9</td>\n",
       "      <td>967</td>\n",
       "      <td>14M</td>\n",
       "      <td>500,000+</td>\n",
       "      <td>Free</td>\n",
       "      <td>0</td>\n",
       "      <td>Everyone</td>\n",
       "      <td>Art &amp; Design;Pretend Play</td>\n",
       "      <td>January 15, 2018</td>\n",
       "      <td>2.0.0</td>\n",
       "      <td>4.0.3 and up</td>\n",
       "      <td>I love colors inspyering</td>\n",
       "      <td>Positive</td>\n",
       "      <td>0.500</td>\n",
       "      <td>0.600000</td>\n",
       "    </tr>\n",
       "    <tr>\n",
       "      <th>...</th>\n",
       "      <td>...</td>\n",
       "      <td>...</td>\n",
       "      <td>...</td>\n",
       "      <td>...</td>\n",
       "      <td>...</td>\n",
       "      <td>...</td>\n",
       "      <td>...</td>\n",
       "      <td>...</td>\n",
       "      <td>...</td>\n",
       "      <td>...</td>\n",
       "      <td>...</td>\n",
       "      <td>...</td>\n",
       "      <td>...</td>\n",
       "      <td>...</td>\n",
       "      <td>...</td>\n",
       "      <td>...</td>\n",
       "      <td>...</td>\n",
       "    </tr>\n",
       "    <tr>\n",
       "      <th>122657</th>\n",
       "      <td>FP Notebook</td>\n",
       "      <td>MEDICAL</td>\n",
       "      <td>4.5</td>\n",
       "      <td>410</td>\n",
       "      <td>60M</td>\n",
       "      <td>50,000+</td>\n",
       "      <td>Free</td>\n",
       "      <td>0</td>\n",
       "      <td>Everyone</td>\n",
       "      <td>Medical</td>\n",
       "      <td>March 24, 2018</td>\n",
       "      <td>2.1.0.372</td>\n",
       "      <td>4.4 and up</td>\n",
       "      <td>NaN</td>\n",
       "      <td>NaN</td>\n",
       "      <td>NaN</td>\n",
       "      <td>NaN</td>\n",
       "    </tr>\n",
       "    <tr>\n",
       "      <th>122658</th>\n",
       "      <td>FP Notebook</td>\n",
       "      <td>MEDICAL</td>\n",
       "      <td>4.5</td>\n",
       "      <td>410</td>\n",
       "      <td>60M</td>\n",
       "      <td>50,000+</td>\n",
       "      <td>Free</td>\n",
       "      <td>0</td>\n",
       "      <td>Everyone</td>\n",
       "      <td>Medical</td>\n",
       "      <td>March 24, 2018</td>\n",
       "      <td>2.1.0.372</td>\n",
       "      <td>4.4 and up</td>\n",
       "      <td>NaN</td>\n",
       "      <td>NaN</td>\n",
       "      <td>NaN</td>\n",
       "      <td>NaN</td>\n",
       "    </tr>\n",
       "    <tr>\n",
       "      <th>122659</th>\n",
       "      <td>FP Notebook</td>\n",
       "      <td>MEDICAL</td>\n",
       "      <td>4.5</td>\n",
       "      <td>410</td>\n",
       "      <td>60M</td>\n",
       "      <td>50,000+</td>\n",
       "      <td>Free</td>\n",
       "      <td>0</td>\n",
       "      <td>Everyone</td>\n",
       "      <td>Medical</td>\n",
       "      <td>March 24, 2018</td>\n",
       "      <td>2.1.0.372</td>\n",
       "      <td>4.4 and up</td>\n",
       "      <td>NaN</td>\n",
       "      <td>NaN</td>\n",
       "      <td>NaN</td>\n",
       "      <td>NaN</td>\n",
       "    </tr>\n",
       "    <tr>\n",
       "      <th>122660</th>\n",
       "      <td>FP Notebook</td>\n",
       "      <td>MEDICAL</td>\n",
       "      <td>4.5</td>\n",
       "      <td>410</td>\n",
       "      <td>60M</td>\n",
       "      <td>50,000+</td>\n",
       "      <td>Free</td>\n",
       "      <td>0</td>\n",
       "      <td>Everyone</td>\n",
       "      <td>Medical</td>\n",
       "      <td>March 24, 2018</td>\n",
       "      <td>2.1.0.372</td>\n",
       "      <td>4.4 and up</td>\n",
       "      <td>NaN</td>\n",
       "      <td>NaN</td>\n",
       "      <td>NaN</td>\n",
       "      <td>NaN</td>\n",
       "    </tr>\n",
       "    <tr>\n",
       "      <th>122661</th>\n",
       "      <td>FP Notebook</td>\n",
       "      <td>MEDICAL</td>\n",
       "      <td>4.5</td>\n",
       "      <td>410</td>\n",
       "      <td>60M</td>\n",
       "      <td>50,000+</td>\n",
       "      <td>Free</td>\n",
       "      <td>0</td>\n",
       "      <td>Everyone</td>\n",
       "      <td>Medical</td>\n",
       "      <td>March 24, 2018</td>\n",
       "      <td>2.1.0.372</td>\n",
       "      <td>4.4 and up</td>\n",
       "      <td>NaN</td>\n",
       "      <td>NaN</td>\n",
       "      <td>NaN</td>\n",
       "      <td>NaN</td>\n",
       "    </tr>\n",
       "  </tbody>\n",
       "</table>\n",
       "<p>122662 rows × 17 columns</p>\n",
       "</div>"
      ],
      "text/plain": [
       "                        App        Category  Rating Reviews Size  Installs  \\\n",
       "0       Coloring book moana  ART_AND_DESIGN     3.9     967  14M  500,000+   \n",
       "1       Coloring book moana  ART_AND_DESIGN     3.9     967  14M  500,000+   \n",
       "2       Coloring book moana  ART_AND_DESIGN     3.9     967  14M  500,000+   \n",
       "3       Coloring book moana  ART_AND_DESIGN     3.9     967  14M  500,000+   \n",
       "4       Coloring book moana  ART_AND_DESIGN     3.9     967  14M  500,000+   \n",
       "...                     ...             ...     ...     ...  ...       ...   \n",
       "122657          FP Notebook         MEDICAL     4.5     410  60M   50,000+   \n",
       "122658          FP Notebook         MEDICAL     4.5     410  60M   50,000+   \n",
       "122659          FP Notebook         MEDICAL     4.5     410  60M   50,000+   \n",
       "122660          FP Notebook         MEDICAL     4.5     410  60M   50,000+   \n",
       "122661          FP Notebook         MEDICAL     4.5     410  60M   50,000+   \n",
       "\n",
       "        Type Price Content Rating                     Genres  \\\n",
       "0       Free     0       Everyone  Art & Design;Pretend Play   \n",
       "1       Free     0       Everyone  Art & Design;Pretend Play   \n",
       "2       Free     0       Everyone  Art & Design;Pretend Play   \n",
       "3       Free     0       Everyone  Art & Design;Pretend Play   \n",
       "4       Free     0       Everyone  Art & Design;Pretend Play   \n",
       "...      ...   ...            ...                        ...   \n",
       "122657  Free     0       Everyone                    Medical   \n",
       "122658  Free     0       Everyone                    Medical   \n",
       "122659  Free     0       Everyone                    Medical   \n",
       "122660  Free     0       Everyone                    Medical   \n",
       "122661  Free     0       Everyone                    Medical   \n",
       "\n",
       "            Last Updated Current Ver   Android Ver  \\\n",
       "0       January 15, 2018       2.0.0  4.0.3 and up   \n",
       "1       January 15, 2018       2.0.0  4.0.3 and up   \n",
       "2       January 15, 2018       2.0.0  4.0.3 and up   \n",
       "3       January 15, 2018       2.0.0  4.0.3 and up   \n",
       "4       January 15, 2018       2.0.0  4.0.3 and up   \n",
       "...                  ...         ...           ...   \n",
       "122657    March 24, 2018   2.1.0.372    4.4 and up   \n",
       "122658    March 24, 2018   2.1.0.372    4.4 and up   \n",
       "122659    March 24, 2018   2.1.0.372    4.4 and up   \n",
       "122660    March 24, 2018   2.1.0.372    4.4 and up   \n",
       "122661    March 24, 2018   2.1.0.372    4.4 and up   \n",
       "\n",
       "                                        Translated_Review Sentiment  \\\n",
       "0       A kid's excessive ads. The types ads allowed a...  Negative   \n",
       "1                                              It bad >:(  Negative   \n",
       "2                                                    like   Neutral   \n",
       "3                                                     NaN       NaN   \n",
       "4                                I love colors inspyering  Positive   \n",
       "...                                                   ...       ...   \n",
       "122657                                                NaN       NaN   \n",
       "122658                                                NaN       NaN   \n",
       "122659                                                NaN       NaN   \n",
       "122660                                                NaN       NaN   \n",
       "122661                                                NaN       NaN   \n",
       "\n",
       "        Sentiment_Polarity  Sentiment_Subjectivity  \n",
       "0                   -0.250                1.000000  \n",
       "1                   -0.725                0.833333  \n",
       "2                    0.000                0.000000  \n",
       "3                      NaN                     NaN  \n",
       "4                    0.500                0.600000  \n",
       "...                    ...                     ...  \n",
       "122657                 NaN                     NaN  \n",
       "122658                 NaN                     NaN  \n",
       "122659                 NaN                     NaN  \n",
       "122660                 NaN                     NaN  \n",
       "122661                 NaN                     NaN  \n",
       "\n",
       "[122662 rows x 17 columns]"
      ]
     },
     "execution_count": 6,
     "metadata": {},
     "output_type": "execute_result"
    }
   ],
   "source": [
    "merged_df"
   ]
  },
  {
   "cell_type": "code",
   "execution_count": 7,
   "id": "f9b41e86-ce08-41b8-98c9-0c2dd0bb27cd",
   "metadata": {},
   "outputs": [
    {
     "data": {
      "text/plain": [
       "App                        object\n",
       "Category                   object\n",
       "Rating                    float64\n",
       "Reviews                    object\n",
       "Size                       object\n",
       "Installs                   object\n",
       "Type                       object\n",
       "Price                      object\n",
       "Content Rating             object\n",
       "Genres                     object\n",
       "Last Updated               object\n",
       "Current Ver                object\n",
       "Android Ver                object\n",
       "Translated_Review          object\n",
       "Sentiment                  object\n",
       "Sentiment_Polarity        float64\n",
       "Sentiment_Subjectivity    float64\n",
       "dtype: object"
      ]
     },
     "execution_count": 7,
     "metadata": {},
     "output_type": "execute_result"
    }
   ],
   "source": [
    "merged_df.dtypes"
   ]
  },
  {
   "cell_type": "code",
   "execution_count": 8,
   "id": "e21431d1-f547-4075-91cb-2099a9ccb068",
   "metadata": {},
   "outputs": [],
   "source": [
    "#Step 2:Data Cleaning"
   ]
  },
  {
   "cell_type": "code",
   "execution_count": 9,
   "id": "42704478-ec5e-4c70-b779-df6932e3d778",
   "metadata": {},
   "outputs": [],
   "source": [
    "merged_df = merged_df[~merged_df['App'].str.lower().str.startswith(('x', 'y', 'z'))]\n",
    "merged_df = merged_df[~merged_df['App'].str.lower().str.contains('s')]"
   ]
  },
  {
   "cell_type": "code",
   "execution_count": 10,
   "id": "ee7991f4-0b2e-49d1-86c8-925b5a458cdd",
   "metadata": {},
   "outputs": [],
   "source": [
    "merged_df = merged_df[merged_df['Category'].str.lower().str.startswith(('e', 'c', 'b'))]"
   ]
  },
  {
   "cell_type": "code",
   "execution_count": 11,
   "id": "7f92f275-9dfc-4f1e-8005-2ed7f74e7b33",
   "metadata": {},
   "outputs": [],
   "source": [
    "merged_df['Reviews'] = merged_df['Reviews'].str.replace(',', '').astype(int)\n",
    "merged_df = merged_df[merged_df['Reviews'] > 500]"
   ]
  },
  {
   "cell_type": "code",
   "execution_count": 12,
   "id": "e55c3a38-72ed-4a6f-bb96-8d3609da336c",
   "metadata": {},
   "outputs": [],
   "source": [
    "merged_df['Installs'] = merged_df['Installs'].str.replace('[+,]', '', regex=True).astype(int)"
   ]
  },
  {
   "cell_type": "code",
   "execution_count": 13,
   "id": "84006e37-95a1-4940-8a96-7aadb3067927",
   "metadata": {},
   "outputs": [],
   "source": [
    "merged_df['Last Updated'] = pd.to_datetime(merged_df['Last Updated'])"
   ]
  },
  {
   "cell_type": "code",
   "execution_count": 14,
   "id": "777a19c5-7a07-40f2-b713-faeef3750265",
   "metadata": {},
   "outputs": [],
   "source": [
    "#Step 3:Data Transmission"
   ]
  },
  {
   "cell_type": "code",
   "execution_count": 15,
   "id": "9ddbbb8a-4155-43e1-b846-394948b1304a",
   "metadata": {},
   "outputs": [],
   "source": [
    "merged_df_grouped = merged_df.groupby(['Last Updated', 'Category'])['Installs'].sum().reset_index()"
   ]
  },
  {
   "cell_type": "code",
   "execution_count": 16,
   "id": "628074b9-2a72-42a2-8c2d-84266b13f41e",
   "metadata": {},
   "outputs": [],
   "source": [
    "def translate_category(category):\n",
    "    if category == 'Beauty':\n",
    "        return 'सौंदर्य'          \n",
    "    elif category == 'Business':\n",
    "        return 'வணிகம்'           \n",
    "    elif category == 'Dating':\n",
    "        return 'Verabredung'      \n",
    "    else:\n",
    "        return category           \n",
    "\n",
    "merged_df_grouped['Category'] = merged_df_grouped['Category'].apply(translate_category)"
   ]
  },
  {
   "cell_type": "code",
   "execution_count": 17,
   "id": "92e8c00e-a89d-4bc5-8c2a-6fa6b292f438",
   "metadata": {},
   "outputs": [],
   "source": [
    "merged_df_grouped['Install_MoM_Change'] = merged_df_grouped.groupby('Category')['Installs'].pct_change() * 100"
   ]
  },
  {
   "cell_type": "code",
   "execution_count": 18,
   "id": "61b59aae-f565-48cf-84a2-b51e9456380e",
   "metadata": {},
   "outputs": [],
   "source": [
    "#Step 4:Sentiment Analysis"
   ]
  },
  {
   "cell_type": "code",
   "execution_count": 19,
   "id": "3948ccc0-c03d-4731-9053-079b4cec0a60",
   "metadata": {},
   "outputs": [],
   "source": [
    "sia = SentimentIntensityAnalyzer()\n",
    "merged_df['Sentiment_Polarity'] = merged_df['Translated_Review'].apply(lambda x: sia.polarity_scores(str(x))['compound'])"
   ]
  },
  {
   "cell_type": "code",
   "execution_count": 20,
   "id": "720c63d4-e9bc-4213-bbab-704968254733",
   "metadata": {},
   "outputs": [],
   "source": [
    "def sentiment_label(score):\n",
    "    if score > 0.05:\n",
    "        return 'Positive'\n",
    "    elif score < -0.05:\n",
    "        return 'Negative'\n",
    "    else:\n",
    "        return 'Neutral'\n",
    "\n",
    "merged_df['Sentiment'] = merged_df['Sentiment_Polarity'].apply(sentiment_label)"
   ]
  },
  {
   "cell_type": "code",
   "execution_count": 21,
   "id": "01900264-b81b-49fb-a952-1f38dfad906a",
   "metadata": {},
   "outputs": [],
   "source": [
    "sentiment_grouped = merged_df.groupby(['Last Updated', 'Category'])['Sentiment_Polarity'].mean().reset_index()\n",
    "sentiment_grouped.rename(columns={'Sentiment_Polarity':'Avg_Sentiment'}, inplace=True)\n",
    "\n",
    "merged_df_grouped = merged_df_grouped.merge(sentiment_grouped, on=['Last Updated', 'Category'], how='left')\n",
    "merged_df_grouped['Significant_Growth'] = merged_df_grouped['Install_MoM_Change'] > 20"
   ]
  },
  {
   "cell_type": "code",
   "execution_count": 22,
   "id": "c4c78e59-12c5-4378-ae92-306aa11805c4",
   "metadata": {},
   "outputs": [],
   "source": [
    "#Step 5:Plotting Graph"
   ]
  },
  {
   "cell_type": "code",
   "execution_count": 23,
   "id": "5071a4d9-f0b1-4766-bdf3-5444a9f331fa",
   "metadata": {},
   "outputs": [],
   "source": [
    "html_files_paths=\"./\"\n",
    "if not os.path.exists(html_files_paths):\n",
    "    os.makedirs(html_files_path)"
   ]
  },
  {
   "cell_type": "code",
   "execution_count": 24,
   "id": "bf9ca6db-7a1b-4e71-8707-7beb939f5d8d",
   "metadata": {},
   "outputs": [],
   "source": [
    "plot_containers=\"\""
   ]
  },
  {
   "cell_type": "code",
   "execution_count": 25,
   "id": "397d4805-8225-46fd-9b7d-e37fe7a2afe6",
   "metadata": {},
   "outputs": [],
   "source": [
    "def save_plot_as_html(fig,filename,insight):\n",
    "    global plot_containers\n",
    "    filepath= os.path.join(html_files_paths,filename)\n",
    "    html_content=pio.to_html(fig,full_html=False,include_plotlyjs='inline')\n",
    "    plot_containers+= f\"\"\"\n",
    "    <div class =\"plot-container\" id=\"{filename}\" onclick =\"openPlot('{filename}')\">\n",
    "       <div class=\"plot\">{html_content}</div> \n",
    "       <div class=\"insights\">{insight}</div>\n",
    "    </div>\n",
    "    \"\"\"\n",
    "    fig.write_html(filepath,full_html=False,include_plotlyjs=\"inline\")\n"
   ]
  },
  {
   "cell_type": "code",
   "execution_count": 26,
   "id": "cf3cc585-9ba3-4931-8b2c-30a0b66f3700",
   "metadata": {},
   "outputs": [
    {
     "name": "stdout",
     "output_type": "stream",
     "text": [
      "Graph is only available between 6 PM and 9 PM IST.\n"
     ]
    }
   ],
   "source": [
    "ist = pytz.timezone(\"Asia/Kolkata\")\n",
    "now = datetime.now(ist)\n",
    "\n",
    "if 18 <= now.hour < 21:\n",
    "    fig5 = go.Figure()\n",
    "\n",
    "    categories = merged_df_grouped['Category'].unique()\n",
    "    for cat in categories:\n",
    "        df_cat = merged_df_grouped[merged_df_grouped['Category'] == cat]\n",
    "        \n",
    "        fig4.add_trace(go.Scatter(\n",
    "            x=df_cat['Last Updated'],\n",
    "            y=df_cat['Installs'],\n",
    "            mode='lines+markers',\n",
    "            name=f'{cat} Installs',\n",
    "            line=dict(width=2)\n",
    "        ))\n",
    "\n",
    "        fig4.add_trace(go.Scatter(\n",
    "            x=df_cat['Last Updated'][df_cat['Significant_Growth']],\n",
    "            y=df_cat['Installs'][df_cat['Significant_Growth']],\n",
    "            mode='lines',\n",
    "            line=dict(width=0),\n",
    "            fill='tozeroy',\n",
    "            fillcolor='rgba(255,165,0,0.3)',  # Orange shade\n",
    "            name=f'{cat} Growth >20%',\n",
    "            showlegend=False\n",
    "        ))\n",
    "\n",
    "        fig4.add_trace(go.Scatter(\n",
    "            x=df_cat['Last Updated'],\n",
    "            y=df_cat['Avg_Sentiment']*max(df_cat['Installs']),  # scale sentiment\n",
    "            mode='lines',\n",
    "            name=f'{cat} Avg Sentiment',\n",
    "            line=dict(width=1, dash='dot'),\n",
    "            yaxis='y2'\n",
    "        ))\n",
    "\n",
    "    fig4.update_layout(\n",
    "        title=\"App Installs Trend with Significant Growth and Sentiment\",\n",
    "        xaxis_title=\"Date\",\n",
    "        yaxis=dict(title=\"Total Installs\", type=\"log\"),\n",
    "        yaxis2=dict(title=\"Sentiment (scaled)\", overlaying=\"y\", side=\"right\"),\n",
    "        plot_bgcolor='black',\n",
    "        paper_bgcolor='black',\n",
    "        font_color='white',\n",
    "        legend_title=\"Category / Metric\"\n",
    "    )\n",
    "\n",
    "    fig4.show()\n",
    "    save_plot_as_html(\n",
    "    fig4,\n",
    "    \"App_Installs_Trend.html\",\n",
    "    \"Time series line chart showing total installs by category, highlights >20% growth, with sentiment overlay.\"\n",
    "    )\n",
    "\n",
    "else:\n",
    "    print(\"Graph is only available between 6 PM and 9 PM IST.\")\n"
   ]
  },
  {
   "cell_type": "code",
   "execution_count": 27,
   "id": "2e6e54fd-a669-40a7-b9be-157b6c56cbee",
   "metadata": {},
   "outputs": [],
   "source": [
    "plot_containers_split=plot_containers.split('</div')"
   ]
  },
  {
   "cell_type": "code",
   "execution_count": 28,
   "id": "951eb2f6-363e-49b5-a973-7a721389ea0c",
   "metadata": {},
   "outputs": [],
   "source": [
    "if len(plot_containers_split) > 1:\n",
    "    final_plot=plot_containers_split[-2]+'</div>'\n",
    "else:\n",
    "    final_plot=plot_containers"
   ]
  },
  {
   "cell_type": "code",
   "execution_count": 29,
   "id": "ca805a12-4cee-4d2f-8ef6-b097e4b2fbe1",
   "metadata": {},
   "outputs": [],
   "source": [
    "dashboard_html= \"\"\"\n",
    "<!DOCTYPE html>\n",
    "<html lang=\"en\">\n",
    "<head>\n",
    "     <meta charset=\"UTF-8\">\n",
    "     <meta name=viewport\" content=\"width=device-width,initial-scale-1.0\">\n",
    "     <title>Google Play Store Review Analytics</title>\n",
    "     <style>\n",
    "        body {{ \n",
    "            font-family: Arial, sans-serif;\n",
    "            background-color: #333;\n",
    "            color: #fff;\n",
    "            margin: 0;\n",
    "            padding: 0;\n",
    "         }}\n",
    "         .header{{\n",
    "            display: flex;\n",
    "            align-items: center;\n",
    "            justify-content: center;\n",
    "            padding: 20px;\n",
    "            background-color: #444;\n",
    "        }}\n",
    "        .header img{{\n",
    "            margin: 0 10px;\n",
    "            height: 50px;\n",
    "        }}\n",
    "        .container{{\n",
    "            display: flex;\n",
    "            flex-wrap: wrap;\n",
    "            justify-content: center;\n",
    "            padding: 20px;\n",
    "        }}\n",
    "        .plot-container{{\n",
    "            border: 2px solid #555;\n",
    "            margin: 10px;\n",
    "            padding: 10px;\n",
    "            width: {plot_width}px;\n",
    "            height: {plot_height}px;\n",
    "            overflow: hidden;\n",
    "            position: relative;\n",
    "            cursor: pointer;\n",
    "        }}\n",
    "        .insights{{\n",
    "            display: none;\n",
    "            position: absolute;\n",
    "            right: 10px;\n",
    "            top: 10px;\n",
    "            background-color: rgba(0,0,0,0.7);\n",
    "            padding: 5px;\n",
    "            border-radius: 5px;\n",
    "            color: #fff;\n",
    "        }}\n",
    "        .plot-container:hover .insights{{ \n",
    "            display: block;\n",
    "        }}\n",
    "        </style>\n",
    "        <script>\n",
    "             function openPlot(filename){{\n",
    "                 window.open(filename,'_blank');\n",
    "                 }}\n",
    "        </script>\n",
    "    </head>\n",
    "    <body>\n",
    "        <div class= \"header\">\n",
    "            <img src=\"https://www.keyweo.com/wp-content/uploads/2022/04/google-logo-history.jpg\" alt=\"Google logo\">\n",
    "            <h1>Google Play Store Review Analytics</h1>\n",
    "            <img src=\"https://www.sociocs.com/images/badge-google-play.png\" alt=\"Google Play Store Logo\">\n",
    "        </div>\n",
    "        <div class=\"container\">\n",
    "            {plots}\n",
    "        </div>\n",
    "    </body>\n",
    "    </html>\n",
    "    \"\"\""
   ]
  },
  {
   "cell_type": "code",
   "execution_count": 30,
   "id": "89707a5c-e875-4194-a387-3273dbda5e3c",
   "metadata": {},
   "outputs": [],
   "source": [
    "plot_width=400\n",
    "plot_height=300\n",
    "plot_bg_color='black'\n",
    "text_color='white'\n",
    "title_font={'size':16}\n",
    "axis_font={'size':12}\n"
   ]
  },
  {
   "cell_type": "code",
   "execution_count": 31,
   "id": "39c77872-5a63-44e2-868a-3241a1fb65b6",
   "metadata": {},
   "outputs": [],
   "source": [
    "final_html=dashboard_html.format(plots=plot_containers, plot_width=plot_width, plot_height=plot_height)"
   ]
  },
  {
   "cell_type": "code",
   "execution_count": 32,
   "id": "35b519a1-8fd0-4573-ba95-ed37f002729c",
   "metadata": {},
   "outputs": [],
   "source": [
    "dashboard_path=os.path.join(html_files_paths,\"web page.html\")"
   ]
  },
  {
   "cell_type": "code",
   "execution_count": 33,
   "id": "293a66b0-6888-45c0-a1c7-74f9b3e609a0",
   "metadata": {},
   "outputs": [],
   "source": [
    "with open(dashboard_path, \"w\", encoding=\"utf-8\") as f:\n",
    "    f.write(final_html)"
   ]
  },
  {
   "cell_type": "code",
   "execution_count": 34,
   "id": "5e40ee05-ae7f-440d-9cd7-6f6945fadac4",
   "metadata": {},
   "outputs": [
    {
     "data": {
      "text/plain": [
       "True"
      ]
     },
     "execution_count": 34,
     "metadata": {},
     "output_type": "execute_result"
    }
   ],
   "source": [
    "webbrowser.open('file://'+os.path.realpath(dashboard_path))"
   ]
  },
  {
   "cell_type": "code",
   "execution_count": null,
   "id": "879538e5-3ce2-433c-9ee8-c5f27d2b7958",
   "metadata": {},
   "outputs": [],
   "source": []
  }
 ],
 "metadata": {
  "kernelspec": {
   "display_name": "Python [conda env:base] *",
   "language": "python",
   "name": "conda-base-py"
  },
  "language_info": {
   "codemirror_mode": {
    "name": "ipython",
    "version": 3
   },
   "file_extension": ".py",
   "mimetype": "text/x-python",
   "name": "python",
   "nbconvert_exporter": "python",
   "pygments_lexer": "ipython3",
   "version": "3.12.7"
  }
 },
 "nbformat": 4,
 "nbformat_minor": 5
}
