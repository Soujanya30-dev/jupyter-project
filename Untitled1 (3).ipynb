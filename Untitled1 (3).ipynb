{
 "cells": [
  {
   "cell_type": "code",
   "execution_count": 1,
   "id": "11523632-ce40-41cc-9c0c-39d44b9e6b44",
   "metadata": {},
   "outputs": [],
   "source": [
    "#Use a grouped bar chart to compare the average rating and total review count for the top 10 app categories by number of installs. Filter out any\n",
    "#categories where the average rating is below 4.0 and size below 10 M and last update should be Jan month . this graph should work only between 3PM\n",
    "#IST to 5 PM IST apart from that time we should not show this graph in dashboard itself."
   ]
  },
  {
   "cell_type": "code",
   "execution_count": 2,
   "id": "04dbd213-55f6-47d2-b16b-106992600733",
   "metadata": {},
   "outputs": [],
   "source": [
    "#Step 1:Importing Libraries\n",
    "import pandas as pd\n",
    "import numpy as np\n",
    "import plotly.express as px\n",
    "import plotly.io as pio\n",
    "from datetime import datetime\n",
    "from nltk.sentiment.vader import SentimentIntensityAnalyzer\n",
    "import pytz\n",
    "import nltk\n",
    "import webbrowser\n",
    "import os\n",
    "from sklearn.preprocessing import MinMaxScaler"
   ]
  },
  {
   "cell_type": "code",
   "execution_count": 3,
   "id": "2df77da5-020e-4859-9ade-6ae4fd63f5ca",
   "metadata": {},
   "outputs": [
    {
     "name": "stderr",
     "output_type": "stream",
     "text": [
      "[nltk_data] Downloading package vader_lexicon to\n",
      "[nltk_data]     C:\\Users\\souja\\AppData\\Roaming\\nltk_data...\n",
      "[nltk_data]   Package vader_lexicon is already up-to-date!\n"
     ]
    },
    {
     "data": {
      "text/plain": [
       "True"
      ]
     },
     "execution_count": 3,
     "metadata": {},
     "output_type": "execute_result"
    }
   ],
   "source": [
    "nltk.download('vader_lexicon')"
   ]
  },
  {
   "cell_type": "code",
   "execution_count": 4,
   "id": "7ab58115-d701-4d98-b5b1-da52214f2015",
   "metadata": {},
   "outputs": [],
   "source": [
    "apps_df=pd.read_csv('Play Store Data.csv')\n",
    "reviews_df=pd.read_csv('User Reviews.csv')"
   ]
  },
  {
   "cell_type": "code",
   "execution_count": 5,
   "id": "1b868552-ea4d-450e-a0cd-4e476b70ef82",
   "metadata": {},
   "outputs": [],
   "source": [
    "merged_df = pd.merge(apps_df, reviews_df, on='App', how='inner')"
   ]
  },
  {
   "cell_type": "code",
   "execution_count": 6,
   "id": "acee00d9-634e-49f2-832f-dcd83b2200ef",
   "metadata": {},
   "outputs": [
    {
     "data": {
      "text/html": [
       "<div>\n",
       "<style scoped>\n",
       "    .dataframe tbody tr th:only-of-type {\n",
       "        vertical-align: middle;\n",
       "    }\n",
       "\n",
       "    .dataframe tbody tr th {\n",
       "        vertical-align: top;\n",
       "    }\n",
       "\n",
       "    .dataframe thead th {\n",
       "        text-align: right;\n",
       "    }\n",
       "</style>\n",
       "<table border=\"1\" class=\"dataframe\">\n",
       "  <thead>\n",
       "    <tr style=\"text-align: right;\">\n",
       "      <th></th>\n",
       "      <th>App</th>\n",
       "      <th>Category</th>\n",
       "      <th>Rating</th>\n",
       "      <th>Reviews</th>\n",
       "      <th>Size</th>\n",
       "      <th>Installs</th>\n",
       "      <th>Type</th>\n",
       "      <th>Price</th>\n",
       "      <th>Content Rating</th>\n",
       "      <th>Genres</th>\n",
       "      <th>Last Updated</th>\n",
       "      <th>Current Ver</th>\n",
       "      <th>Android Ver</th>\n",
       "      <th>Translated_Review</th>\n",
       "      <th>Sentiment</th>\n",
       "      <th>Sentiment_Polarity</th>\n",
       "      <th>Sentiment_Subjectivity</th>\n",
       "    </tr>\n",
       "  </thead>\n",
       "  <tbody>\n",
       "    <tr>\n",
       "      <th>0</th>\n",
       "      <td>Coloring book moana</td>\n",
       "      <td>ART_AND_DESIGN</td>\n",
       "      <td>3.9</td>\n",
       "      <td>967</td>\n",
       "      <td>14M</td>\n",
       "      <td>500,000+</td>\n",
       "      <td>Free</td>\n",
       "      <td>0</td>\n",
       "      <td>Everyone</td>\n",
       "      <td>Art &amp; Design;Pretend Play</td>\n",
       "      <td>January 15, 2018</td>\n",
       "      <td>2.0.0</td>\n",
       "      <td>4.0.3 and up</td>\n",
       "      <td>A kid's excessive ads. The types ads allowed a...</td>\n",
       "      <td>Negative</td>\n",
       "      <td>-0.250</td>\n",
       "      <td>1.000000</td>\n",
       "    </tr>\n",
       "    <tr>\n",
       "      <th>1</th>\n",
       "      <td>Coloring book moana</td>\n",
       "      <td>ART_AND_DESIGN</td>\n",
       "      <td>3.9</td>\n",
       "      <td>967</td>\n",
       "      <td>14M</td>\n",
       "      <td>500,000+</td>\n",
       "      <td>Free</td>\n",
       "      <td>0</td>\n",
       "      <td>Everyone</td>\n",
       "      <td>Art &amp; Design;Pretend Play</td>\n",
       "      <td>January 15, 2018</td>\n",
       "      <td>2.0.0</td>\n",
       "      <td>4.0.3 and up</td>\n",
       "      <td>It bad &gt;:(</td>\n",
       "      <td>Negative</td>\n",
       "      <td>-0.725</td>\n",
       "      <td>0.833333</td>\n",
       "    </tr>\n",
       "    <tr>\n",
       "      <th>2</th>\n",
       "      <td>Coloring book moana</td>\n",
       "      <td>ART_AND_DESIGN</td>\n",
       "      <td>3.9</td>\n",
       "      <td>967</td>\n",
       "      <td>14M</td>\n",
       "      <td>500,000+</td>\n",
       "      <td>Free</td>\n",
       "      <td>0</td>\n",
       "      <td>Everyone</td>\n",
       "      <td>Art &amp; Design;Pretend Play</td>\n",
       "      <td>January 15, 2018</td>\n",
       "      <td>2.0.0</td>\n",
       "      <td>4.0.3 and up</td>\n",
       "      <td>like</td>\n",
       "      <td>Neutral</td>\n",
       "      <td>0.000</td>\n",
       "      <td>0.000000</td>\n",
       "    </tr>\n",
       "    <tr>\n",
       "      <th>3</th>\n",
       "      <td>Coloring book moana</td>\n",
       "      <td>ART_AND_DESIGN</td>\n",
       "      <td>3.9</td>\n",
       "      <td>967</td>\n",
       "      <td>14M</td>\n",
       "      <td>500,000+</td>\n",
       "      <td>Free</td>\n",
       "      <td>0</td>\n",
       "      <td>Everyone</td>\n",
       "      <td>Art &amp; Design;Pretend Play</td>\n",
       "      <td>January 15, 2018</td>\n",
       "      <td>2.0.0</td>\n",
       "      <td>4.0.3 and up</td>\n",
       "      <td>NaN</td>\n",
       "      <td>NaN</td>\n",
       "      <td>NaN</td>\n",
       "      <td>NaN</td>\n",
       "    </tr>\n",
       "    <tr>\n",
       "      <th>4</th>\n",
       "      <td>Coloring book moana</td>\n",
       "      <td>ART_AND_DESIGN</td>\n",
       "      <td>3.9</td>\n",
       "      <td>967</td>\n",
       "      <td>14M</td>\n",
       "      <td>500,000+</td>\n",
       "      <td>Free</td>\n",
       "      <td>0</td>\n",
       "      <td>Everyone</td>\n",
       "      <td>Art &amp; Design;Pretend Play</td>\n",
       "      <td>January 15, 2018</td>\n",
       "      <td>2.0.0</td>\n",
       "      <td>4.0.3 and up</td>\n",
       "      <td>I love colors inspyering</td>\n",
       "      <td>Positive</td>\n",
       "      <td>0.500</td>\n",
       "      <td>0.600000</td>\n",
       "    </tr>\n",
       "    <tr>\n",
       "      <th>...</th>\n",
       "      <td>...</td>\n",
       "      <td>...</td>\n",
       "      <td>...</td>\n",
       "      <td>...</td>\n",
       "      <td>...</td>\n",
       "      <td>...</td>\n",
       "      <td>...</td>\n",
       "      <td>...</td>\n",
       "      <td>...</td>\n",
       "      <td>...</td>\n",
       "      <td>...</td>\n",
       "      <td>...</td>\n",
       "      <td>...</td>\n",
       "      <td>...</td>\n",
       "      <td>...</td>\n",
       "      <td>...</td>\n",
       "      <td>...</td>\n",
       "    </tr>\n",
       "    <tr>\n",
       "      <th>122657</th>\n",
       "      <td>FP Notebook</td>\n",
       "      <td>MEDICAL</td>\n",
       "      <td>4.5</td>\n",
       "      <td>410</td>\n",
       "      <td>60M</td>\n",
       "      <td>50,000+</td>\n",
       "      <td>Free</td>\n",
       "      <td>0</td>\n",
       "      <td>Everyone</td>\n",
       "      <td>Medical</td>\n",
       "      <td>March 24, 2018</td>\n",
       "      <td>2.1.0.372</td>\n",
       "      <td>4.4 and up</td>\n",
       "      <td>NaN</td>\n",
       "      <td>NaN</td>\n",
       "      <td>NaN</td>\n",
       "      <td>NaN</td>\n",
       "    </tr>\n",
       "    <tr>\n",
       "      <th>122658</th>\n",
       "      <td>FP Notebook</td>\n",
       "      <td>MEDICAL</td>\n",
       "      <td>4.5</td>\n",
       "      <td>410</td>\n",
       "      <td>60M</td>\n",
       "      <td>50,000+</td>\n",
       "      <td>Free</td>\n",
       "      <td>0</td>\n",
       "      <td>Everyone</td>\n",
       "      <td>Medical</td>\n",
       "      <td>March 24, 2018</td>\n",
       "      <td>2.1.0.372</td>\n",
       "      <td>4.4 and up</td>\n",
       "      <td>NaN</td>\n",
       "      <td>NaN</td>\n",
       "      <td>NaN</td>\n",
       "      <td>NaN</td>\n",
       "    </tr>\n",
       "    <tr>\n",
       "      <th>122659</th>\n",
       "      <td>FP Notebook</td>\n",
       "      <td>MEDICAL</td>\n",
       "      <td>4.5</td>\n",
       "      <td>410</td>\n",
       "      <td>60M</td>\n",
       "      <td>50,000+</td>\n",
       "      <td>Free</td>\n",
       "      <td>0</td>\n",
       "      <td>Everyone</td>\n",
       "      <td>Medical</td>\n",
       "      <td>March 24, 2018</td>\n",
       "      <td>2.1.0.372</td>\n",
       "      <td>4.4 and up</td>\n",
       "      <td>NaN</td>\n",
       "      <td>NaN</td>\n",
       "      <td>NaN</td>\n",
       "      <td>NaN</td>\n",
       "    </tr>\n",
       "    <tr>\n",
       "      <th>122660</th>\n",
       "      <td>FP Notebook</td>\n",
       "      <td>MEDICAL</td>\n",
       "      <td>4.5</td>\n",
       "      <td>410</td>\n",
       "      <td>60M</td>\n",
       "      <td>50,000+</td>\n",
       "      <td>Free</td>\n",
       "      <td>0</td>\n",
       "      <td>Everyone</td>\n",
       "      <td>Medical</td>\n",
       "      <td>March 24, 2018</td>\n",
       "      <td>2.1.0.372</td>\n",
       "      <td>4.4 and up</td>\n",
       "      <td>NaN</td>\n",
       "      <td>NaN</td>\n",
       "      <td>NaN</td>\n",
       "      <td>NaN</td>\n",
       "    </tr>\n",
       "    <tr>\n",
       "      <th>122661</th>\n",
       "      <td>FP Notebook</td>\n",
       "      <td>MEDICAL</td>\n",
       "      <td>4.5</td>\n",
       "      <td>410</td>\n",
       "      <td>60M</td>\n",
       "      <td>50,000+</td>\n",
       "      <td>Free</td>\n",
       "      <td>0</td>\n",
       "      <td>Everyone</td>\n",
       "      <td>Medical</td>\n",
       "      <td>March 24, 2018</td>\n",
       "      <td>2.1.0.372</td>\n",
       "      <td>4.4 and up</td>\n",
       "      <td>NaN</td>\n",
       "      <td>NaN</td>\n",
       "      <td>NaN</td>\n",
       "      <td>NaN</td>\n",
       "    </tr>\n",
       "  </tbody>\n",
       "</table>\n",
       "<p>122662 rows × 17 columns</p>\n",
       "</div>"
      ],
      "text/plain": [
       "                        App        Category  Rating Reviews Size  Installs  \\\n",
       "0       Coloring book moana  ART_AND_DESIGN     3.9     967  14M  500,000+   \n",
       "1       Coloring book moana  ART_AND_DESIGN     3.9     967  14M  500,000+   \n",
       "2       Coloring book moana  ART_AND_DESIGN     3.9     967  14M  500,000+   \n",
       "3       Coloring book moana  ART_AND_DESIGN     3.9     967  14M  500,000+   \n",
       "4       Coloring book moana  ART_AND_DESIGN     3.9     967  14M  500,000+   \n",
       "...                     ...             ...     ...     ...  ...       ...   \n",
       "122657          FP Notebook         MEDICAL     4.5     410  60M   50,000+   \n",
       "122658          FP Notebook         MEDICAL     4.5     410  60M   50,000+   \n",
       "122659          FP Notebook         MEDICAL     4.5     410  60M   50,000+   \n",
       "122660          FP Notebook         MEDICAL     4.5     410  60M   50,000+   \n",
       "122661          FP Notebook         MEDICAL     4.5     410  60M   50,000+   \n",
       "\n",
       "        Type Price Content Rating                     Genres  \\\n",
       "0       Free     0       Everyone  Art & Design;Pretend Play   \n",
       "1       Free     0       Everyone  Art & Design;Pretend Play   \n",
       "2       Free     0       Everyone  Art & Design;Pretend Play   \n",
       "3       Free     0       Everyone  Art & Design;Pretend Play   \n",
       "4       Free     0       Everyone  Art & Design;Pretend Play   \n",
       "...      ...   ...            ...                        ...   \n",
       "122657  Free     0       Everyone                    Medical   \n",
       "122658  Free     0       Everyone                    Medical   \n",
       "122659  Free     0       Everyone                    Medical   \n",
       "122660  Free     0       Everyone                    Medical   \n",
       "122661  Free     0       Everyone                    Medical   \n",
       "\n",
       "            Last Updated Current Ver   Android Ver  \\\n",
       "0       January 15, 2018       2.0.0  4.0.3 and up   \n",
       "1       January 15, 2018       2.0.0  4.0.3 and up   \n",
       "2       January 15, 2018       2.0.0  4.0.3 and up   \n",
       "3       January 15, 2018       2.0.0  4.0.3 and up   \n",
       "4       January 15, 2018       2.0.0  4.0.3 and up   \n",
       "...                  ...         ...           ...   \n",
       "122657    March 24, 2018   2.1.0.372    4.4 and up   \n",
       "122658    March 24, 2018   2.1.0.372    4.4 and up   \n",
       "122659    March 24, 2018   2.1.0.372    4.4 and up   \n",
       "122660    March 24, 2018   2.1.0.372    4.4 and up   \n",
       "122661    March 24, 2018   2.1.0.372    4.4 and up   \n",
       "\n",
       "                                        Translated_Review Sentiment  \\\n",
       "0       A kid's excessive ads. The types ads allowed a...  Negative   \n",
       "1                                              It bad >:(  Negative   \n",
       "2                                                    like   Neutral   \n",
       "3                                                     NaN       NaN   \n",
       "4                                I love colors inspyering  Positive   \n",
       "...                                                   ...       ...   \n",
       "122657                                                NaN       NaN   \n",
       "122658                                                NaN       NaN   \n",
       "122659                                                NaN       NaN   \n",
       "122660                                                NaN       NaN   \n",
       "122661                                                NaN       NaN   \n",
       "\n",
       "        Sentiment_Polarity  Sentiment_Subjectivity  \n",
       "0                   -0.250                1.000000  \n",
       "1                   -0.725                0.833333  \n",
       "2                    0.000                0.000000  \n",
       "3                      NaN                     NaN  \n",
       "4                    0.500                0.600000  \n",
       "...                    ...                     ...  \n",
       "122657                 NaN                     NaN  \n",
       "122658                 NaN                     NaN  \n",
       "122659                 NaN                     NaN  \n",
       "122660                 NaN                     NaN  \n",
       "122661                 NaN                     NaN  \n",
       "\n",
       "[122662 rows x 17 columns]"
      ]
     },
     "execution_count": 6,
     "metadata": {},
     "output_type": "execute_result"
    }
   ],
   "source": [
    "merged_df"
   ]
  },
  {
   "cell_type": "code",
   "execution_count": 7,
   "id": "dff1061e-8f66-4f09-a877-15cb6c192977",
   "metadata": {},
   "outputs": [
    {
     "data": {
      "text/plain": [
       "App                        object\n",
       "Category                   object\n",
       "Rating                    float64\n",
       "Reviews                    object\n",
       "Size                       object\n",
       "Installs                   object\n",
       "Type                       object\n",
       "Price                      object\n",
       "Content Rating             object\n",
       "Genres                     object\n",
       "Last Updated               object\n",
       "Current Ver                object\n",
       "Android Ver                object\n",
       "Translated_Review          object\n",
       "Sentiment                  object\n",
       "Sentiment_Polarity        float64\n",
       "Sentiment_Subjectivity    float64\n",
       "dtype: object"
      ]
     },
     "execution_count": 7,
     "metadata": {},
     "output_type": "execute_result"
    }
   ],
   "source": [
    "merged_df.dtypes"
   ]
  },
  {
   "cell_type": "code",
   "execution_count": 8,
   "id": "a74e72c4-acc1-45dc-8395-074deb974514",
   "metadata": {},
   "outputs": [],
   "source": [
    "#Step 2:Data Cleaning"
   ]
  },
  {
   "cell_type": "code",
   "execution_count": 9,
   "id": "5b085f9d-ccf6-44a2-bafd-c06a9c36e42d",
   "metadata": {},
   "outputs": [
    {
     "name": "stdout",
     "output_type": "stream",
     "text": [
      "Rows after filtering by Rating >= 4.0: 112147\n",
      "count    112147.000000\n",
      "mean          4.382494\n",
      "std           0.193595\n",
      "min           4.000000\n",
      "25%           4.200000\n",
      "50%           4.400000\n",
      "75%           4.500000\n",
      "max           4.900000\n",
      "Name: Rating, dtype: float64\n"
     ]
    }
   ],
   "source": [
    "merged_df = merged_df[merged_df['Rating'] >= 4.0].reset_index(drop=True)\n",
    "\n",
    "print(\"Rows after filtering by Rating >= 4.0:\", len(merged_df))\n",
    "print(merged_df['Rating'].describe())"
   ]
  },
  {
   "cell_type": "code",
   "execution_count": 10,
   "id": "289d3c72-d5a7-4516-9345-9d801916a5f9",
   "metadata": {},
   "outputs": [
    {
     "name": "stdout",
     "output_type": "stream",
     "text": [
      "Rows after filtering by Rating >= 4.0: 112147\n",
      "count    112147.000000\n",
      "mean          4.382494\n",
      "std           0.193595\n",
      "min           4.000000\n",
      "25%           4.200000\n",
      "50%           4.400000\n",
      "75%           4.500000\n",
      "max           4.900000\n",
      "Name: Rating, dtype: float64\n"
     ]
    }
   ],
   "source": [
    "merged_df = merged_df[merged_df['Rating'] >= 4.0].reset_index(drop=True)\n",
    "print(\"Rows after filtering by Rating >= 4.0:\", len(merged_df))\n",
    "print(merged_df['Rating'].describe())"
   ]
  },
  {
   "cell_type": "code",
   "execution_count": 11,
   "id": "dd40c633-658b-47cb-aa31-a475a25ceb0a",
   "metadata": {},
   "outputs": [
    {
     "name": "stdout",
     "output_type": "stream",
     "text": [
      "0    13791\n",
      "1    13791\n",
      "2    13791\n",
      "3    13791\n",
      "4    13791\n",
      "Name: Reviews, dtype: int32\n",
      "int32\n"
     ]
    }
   ],
   "source": [
    "merged_df['Reviews'] = merged_df['Reviews'].astype(str).str.replace(',', '', regex=True).astype(int)\n",
    "\n",
    "print(merged_df['Reviews'].head())\n",
    "print(merged_df['Reviews'].dtype)"
   ]
  },
  {
   "cell_type": "code",
   "execution_count": 12,
   "id": "da8e8a87-c758-4b53-8e3e-77c56df47b41",
   "metadata": {},
   "outputs": [
    {
     "name": "stdout",
     "output_type": "stream",
     "text": [
      "0    1000000\n",
      "1    1000000\n",
      "2    1000000\n",
      "3    1000000\n",
      "4    1000000\n",
      "Name: Installs, dtype: int32\n",
      "int32\n"
     ]
    }
   ],
   "source": [
    "merged_df['Installs'] = (\n",
    "    merged_df['Installs'].astype(str).str.replace(',', '', regex=False).str.replace('+', '', regex=False).astype(int)               \n",
    ")\n",
    "\n",
    "print(merged_df['Installs'].head())\n",
    "print(merged_df['Installs'].dtype)"
   ]
  },
  {
   "cell_type": "code",
   "execution_count": 13,
   "id": "ab518a93-f462-42ff-a4ad-8eae586b9b39",
   "metadata": {},
   "outputs": [
    {
     "name": "stdout",
     "output_type": "stream",
     "text": [
      "  Size  Size_MB\n",
      "0  33M     33.0\n",
      "1  33M     33.0\n",
      "2  33M     33.0\n",
      "3  33M     33.0\n",
      "4  33M     33.0\n",
      "5  33M     33.0\n",
      "6  33M     33.0\n",
      "7  33M     33.0\n",
      "8  33M     33.0\n",
      "9  33M     33.0\n",
      "float64\n"
     ]
    }
   ],
   "source": [
    "def convert_size(size):\n",
    "    if pd.isna(size):\n",
    "        return None\n",
    "    size = str(size).strip()  \n",
    "    if size.endswith('M'):\n",
    "        return float(size[:-1]) \n",
    "    elif size.endswith('k'):\n",
    "        return float(size[:-1]) / 1024  \n",
    "    elif size.lower() == 'varies with device':\n",
    "        return None  \n",
    "    else:\n",
    "        try:\n",
    "            return float(size)  \n",
    "        except:\n",
    "            return None\n",
    "\n",
    "merged_df['Size_MB'] = merged_df['Size'].apply(convert_size)\n",
    "\n",
    "print(merged_df[['Size', 'Size_MB']].head(10))\n",
    "print(merged_df['Size_MB'].dtype)"
   ]
  },
  {
   "cell_type": "code",
   "execution_count": 14,
   "id": "49fa8e3b-0365-4774-937f-98a83d2537c8",
   "metadata": {},
   "outputs": [
    {
     "name": "stdout",
     "output_type": "stream",
     "text": [
      "Rows after Size filter: 54300\n",
      "count    54300.000000\n",
      "mean        43.940295\n",
      "std         26.071020\n",
      "min         10.000000\n",
      "25%         20.000000\n",
      "50%         41.000000\n",
      "75%         61.000000\n",
      "max         99.000000\n",
      "Name: Size_MB, dtype: float64\n"
     ]
    }
   ],
   "source": [
    "merged_df = merged_df[merged_df['Size_MB'] >= 10].reset_index(drop=True)\n",
    "\n",
    "print(\"Rows after Size filter:\", len(merged_df))\n",
    "print(merged_df['Size_MB'].describe())"
   ]
  },
  {
   "cell_type": "code",
   "execution_count": 15,
   "id": "8612f107-6ce3-48ba-96d5-20f10962601c",
   "metadata": {},
   "outputs": [],
   "source": [
    "merged_df['Last_Updated_dt'] = pd.to_datetime(merged_df['Last Updated'], errors='coerce')"
   ]
  },
  {
   "cell_type": "code",
   "execution_count": 16,
   "id": "99cad817-2580-4d1d-8e4b-a880d501c5e1",
   "metadata": {},
   "outputs": [],
   "source": [
    "merged_df['Last_Updated_month'] = merged_df['Last_Updated_dt'].dt.month"
   ]
  },
  {
   "cell_type": "code",
   "execution_count": 17,
   "id": "1e6e8aa7-c18f-446e-a026-65af1c03ed0f",
   "metadata": {},
   "outputs": [],
   "source": [
    "merged_df = merged_df[merged_df['Last_Updated_month'] == 1].reset_index(drop=True)\n"
   ]
  },
  {
   "cell_type": "code",
   "execution_count": 18,
   "id": "987275f4-b6c9-4f8b-b03c-bf80310cf64e",
   "metadata": {},
   "outputs": [
    {
     "data": {
      "text/plain": [
       "App                               object\n",
       "Category                          object\n",
       "Rating                           float64\n",
       "Reviews                            int32\n",
       "Size                              object\n",
       "Installs                           int32\n",
       "Type                              object\n",
       "Price                             object\n",
       "Content Rating                    object\n",
       "Genres                            object\n",
       "Last Updated                      object\n",
       "Current Ver                       object\n",
       "Android Ver                       object\n",
       "Translated_Review                 object\n",
       "Sentiment                         object\n",
       "Sentiment_Polarity               float64\n",
       "Sentiment_Subjectivity           float64\n",
       "Size_MB                          float64\n",
       "Last_Updated_dt           datetime64[ns]\n",
       "Last_Updated_month                 int32\n",
       "dtype: object"
      ]
     },
     "execution_count": 18,
     "metadata": {},
     "output_type": "execute_result"
    }
   ],
   "source": [
    "merged_df.dtypes"
   ]
  },
  {
   "cell_type": "code",
   "execution_count": 19,
   "id": "43c720ca-8daa-4f54-aea7-ceb750d3c8d2",
   "metadata": {},
   "outputs": [],
   "source": [
    "#Step 3:Data Transmission"
   ]
  },
  {
   "cell_type": "code",
   "execution_count": 20,
   "id": "c9b7d3d8-2fea-4a53-b9fe-89d032ca9f1e",
   "metadata": {},
   "outputs": [],
   "source": [
    "grouped = merged_df.groupby(\"Category\").agg({\n",
    "    \"Rating\": \"mean\",\n",
    "    \"Reviews\": \"sum\",\n",
    "    \"Installs\": \"sum\"\n",
    "}).reset_index()"
   ]
  },
  {
   "cell_type": "code",
   "execution_count": 21,
   "id": "32171f7a-b6e6-4aaa-bc53-76713f380582",
   "metadata": {},
   "outputs": [
    {
     "name": "stdout",
     "output_type": "stream",
     "text": [
      "         Category  Rating   Reviews    Installs\n",
      "0          FAMILY     4.4  15559180  1300000000\n",
      "1     PHOTOGRAPHY     4.0    846360    20000000\n",
      "2  ART_AND_DESIGN     4.2     40600     4000000\n"
     ]
    }
   ],
   "source": [
    "top10 = grouped.sort_values(by='Installs', ascending=False).head(10).reset_index(drop=True)\n",
    "\n",
    "print(top10)"
   ]
  },
  {
   "cell_type": "code",
   "execution_count": 22,
   "id": "d08b31dc-d8d5-44b1-b04a-7d476573065f",
   "metadata": {},
   "outputs": [
    {
     "name": "stdout",
     "output_type": "stream",
     "text": [
      "         Category   Metric       Value\n",
      "0          FAMILY   Rating         4.4\n",
      "1     PHOTOGRAPHY   Rating         4.0\n",
      "2  ART_AND_DESIGN   Rating         4.2\n",
      "3          FAMILY  Reviews  15559180.0\n",
      "4     PHOTOGRAPHY  Reviews    846360.0\n"
     ]
    }
   ],
   "source": [
    "melted = top10.melt(id_vars='Category', value_vars=['Rating', 'Reviews'],\n",
    "                     var_name='Metric', value_name='Value')\n",
    "\n",
    "print(melted.head())\n",
    "\n",
    "fig = px.bar(\n",
    "    melted,\n",
    "    x='Category',\n",
    "    y='Value',\n",
    "    color='Metric',\n",
    "    barmode='group',      \n",
    "    text='Value',        \n",
    "    title='Top 10 App Categories: Rating vs Reviews'\n",
    ")\n"
   ]
  },
  {
   "cell_type": "code",
   "execution_count": 23,
   "id": "059b598f-b7ae-4064-82d4-c89f1348257d",
   "metadata": {},
   "outputs": [],
   "source": [
    "#Step 4:Sentimental Analysis"
   ]
  },
  {
   "cell_type": "code",
   "execution_count": 24,
   "id": "80163910-095e-4f4b-badb-236bb4265aea",
   "metadata": {},
   "outputs": [
    {
     "name": "stdout",
     "output_type": "stream",
     "text": [
      "         Category  Rating   Reviews    Installs  Sentiment_Polarity  \\\n",
      "0          FAMILY     4.4  15559180  1300000000            0.253676   \n",
      "1     PHOTOGRAPHY     4.0    846360    20000000            0.163922   \n",
      "2  ART_AND_DESIGN     4.2     40600     4000000            0.099453   \n",
      "\n",
      "   Sentiment_Subjectivity   Negative    Neutral   Positive  \n",
      "0                0.515660  27.586207   3.448276  68.965517  \n",
      "1                0.506755  20.512821   2.564103  76.923077  \n",
      "2                0.536765  32.352941  17.647059  50.000000  \n"
     ]
    }
   ],
   "source": [
    "sentiment_agg = merged_df.groupby('Category').agg({\n",
    "    'Sentiment_Polarity': 'mean',\n",
    "    'Sentiment_Subjectivity': 'mean'\n",
    "}).reset_index()\n",
    "\n",
    "sentiment_dist = merged_df.groupby(['Category', 'Sentiment']).size().unstack(fill_value=0)\n",
    "\n",
    "sentiment_percent = sentiment_dist.div(sentiment_dist.sum(axis=1), axis=0) * 100\n",
    "sentiment_percent = sentiment_percent.reset_index()\n",
    "\n",
    "top10_sentiment = top10.merge(sentiment_agg, on='Category', how='left')\n",
    "top10_sentiment = top10_sentiment.merge(sentiment_percent, on='Category', how='left')\n",
    "\n",
    "print(top10_sentiment)"
   ]
  },
  {
   "cell_type": "code",
   "execution_count": 25,
   "id": "dfa2c085-be75-41eb-b5f4-f76aba2affca",
   "metadata": {},
   "outputs": [
    {
     "data": {
      "text/html": [
       "<div>\n",
       "<style scoped>\n",
       "    .dataframe tbody tr th:only-of-type {\n",
       "        vertical-align: middle;\n",
       "    }\n",
       "\n",
       "    .dataframe tbody tr th {\n",
       "        vertical-align: top;\n",
       "    }\n",
       "\n",
       "    .dataframe thead th {\n",
       "        text-align: right;\n",
       "    }\n",
       "</style>\n",
       "<table border=\"1\" class=\"dataframe\">\n",
       "  <thead>\n",
       "    <tr style=\"text-align: right;\">\n",
       "      <th></th>\n",
       "      <th>Category</th>\n",
       "      <th>Rating</th>\n",
       "      <th>Reviews</th>\n",
       "      <th>Installs</th>\n",
       "      <th>Sentiment_Polarity</th>\n",
       "      <th>Sentiment_Subjectivity</th>\n",
       "      <th>Negative</th>\n",
       "      <th>Neutral</th>\n",
       "      <th>Positive</th>\n",
       "    </tr>\n",
       "  </thead>\n",
       "  <tbody>\n",
       "    <tr>\n",
       "      <th>0</th>\n",
       "      <td>FAMILY</td>\n",
       "      <td>4.4</td>\n",
       "      <td>15559180</td>\n",
       "      <td>1300000000</td>\n",
       "      <td>0.253676</td>\n",
       "      <td>0.515660</td>\n",
       "      <td>27.586207</td>\n",
       "      <td>3.448276</td>\n",
       "      <td>68.965517</td>\n",
       "    </tr>\n",
       "    <tr>\n",
       "      <th>1</th>\n",
       "      <td>PHOTOGRAPHY</td>\n",
       "      <td>4.0</td>\n",
       "      <td>846360</td>\n",
       "      <td>20000000</td>\n",
       "      <td>0.163922</td>\n",
       "      <td>0.506755</td>\n",
       "      <td>20.512821</td>\n",
       "      <td>2.564103</td>\n",
       "      <td>76.923077</td>\n",
       "    </tr>\n",
       "    <tr>\n",
       "      <th>2</th>\n",
       "      <td>ART_AND_DESIGN</td>\n",
       "      <td>4.2</td>\n",
       "      <td>40600</td>\n",
       "      <td>4000000</td>\n",
       "      <td>0.099453</td>\n",
       "      <td>0.536765</td>\n",
       "      <td>32.352941</td>\n",
       "      <td>17.647059</td>\n",
       "      <td>50.000000</td>\n",
       "    </tr>\n",
       "  </tbody>\n",
       "</table>\n",
       "</div>"
      ],
      "text/plain": [
       "         Category  Rating   Reviews    Installs  Sentiment_Polarity  \\\n",
       "0          FAMILY     4.4  15559180  1300000000            0.253676   \n",
       "1     PHOTOGRAPHY     4.0    846360    20000000            0.163922   \n",
       "2  ART_AND_DESIGN     4.2     40600     4000000            0.099453   \n",
       "\n",
       "   Sentiment_Subjectivity   Negative    Neutral   Positive  \n",
       "0                0.515660  27.586207   3.448276  68.965517  \n",
       "1                0.506755  20.512821   2.564103  76.923077  \n",
       "2                0.536765  32.352941  17.647059  50.000000  "
      ]
     },
     "execution_count": 25,
     "metadata": {},
     "output_type": "execute_result"
    }
   ],
   "source": [
    "grouped = merged_df.groupby(\"Category\").agg({\n",
    "    \"Rating\": \"mean\",\n",
    "    \"Reviews\": \"sum\",\n",
    "    \"Installs\": \"sum\",\n",
    "    \"Sentiment_Polarity\": \"mean\",\n",
    "    \"Sentiment_Subjectivity\": \"mean\"\n",
    "}).reset_index()\n",
    "\n",
    "sentiment_dist = (\n",
    "    merged_df.groupby([\"Category\", \"Sentiment\"]).size().unstack(fill_value=0)\n",
    ")\n",
    "\n",
    "sentiment_dist = sentiment_dist.div(sentiment_dist.sum(axis=1), axis=0) * 100\n",
    "\n",
    "grouped = grouped.merge(sentiment_dist, on=\"Category\", how=\"left\").fillna(0)\n",
    "\n",
    "top10 = grouped.sort_values(by=\"Installs\", ascending=False).head(10).reset_index(drop=True)\n",
    "top10.head()"
   ]
  },
  {
   "cell_type": "code",
   "execution_count": 26,
   "id": "96864fdf-3aa1-4e2f-b9ae-a4ec4bb05487",
   "metadata": {},
   "outputs": [],
   "source": [
    "#Step 5:Plotting Graph"
   ]
  },
  {
   "cell_type": "code",
   "execution_count": 27,
   "id": "a045d515-5e1a-4fa5-bd83-a2b751238157",
   "metadata": {},
   "outputs": [
    {
     "data": {
      "text/html": [
       "<div>\n",
       "<style scoped>\n",
       "    .dataframe tbody tr th:only-of-type {\n",
       "        vertical-align: middle;\n",
       "    }\n",
       "\n",
       "    .dataframe tbody tr th {\n",
       "        vertical-align: top;\n",
       "    }\n",
       "\n",
       "    .dataframe thead th {\n",
       "        text-align: right;\n",
       "    }\n",
       "</style>\n",
       "<table border=\"1\" class=\"dataframe\">\n",
       "  <thead>\n",
       "    <tr style=\"text-align: right;\">\n",
       "      <th></th>\n",
       "      <th>Category</th>\n",
       "      <th>Sentiment_Polarity</th>\n",
       "      <th>Sentiment_Subjectivity</th>\n",
       "      <th>Negative</th>\n",
       "      <th>Neutral</th>\n",
       "      <th>Positive</th>\n",
       "      <th>Metric</th>\n",
       "      <th>Value_Index</th>\n",
       "      <th>Value_Raw</th>\n",
       "    </tr>\n",
       "  </thead>\n",
       "  <tbody>\n",
       "    <tr>\n",
       "      <th>0</th>\n",
       "      <td>FAMILY</td>\n",
       "      <td>0.253676</td>\n",
       "      <td>0.515660</td>\n",
       "      <td>27.586207</td>\n",
       "      <td>3.448276</td>\n",
       "      <td>68.965517</td>\n",
       "      <td>Rating_norm</td>\n",
       "      <td>1.000000</td>\n",
       "      <td>4.4</td>\n",
       "    </tr>\n",
       "    <tr>\n",
       "      <th>1</th>\n",
       "      <td>PHOTOGRAPHY</td>\n",
       "      <td>0.163922</td>\n",
       "      <td>0.506755</td>\n",
       "      <td>20.512821</td>\n",
       "      <td>2.564103</td>\n",
       "      <td>76.923077</td>\n",
       "      <td>Rating_norm</td>\n",
       "      <td>0.000000</td>\n",
       "      <td>4.0</td>\n",
       "    </tr>\n",
       "    <tr>\n",
       "      <th>2</th>\n",
       "      <td>ART_AND_DESIGN</td>\n",
       "      <td>0.099453</td>\n",
       "      <td>0.536765</td>\n",
       "      <td>32.352941</td>\n",
       "      <td>17.647059</td>\n",
       "      <td>50.000000</td>\n",
       "      <td>Rating_norm</td>\n",
       "      <td>0.500000</td>\n",
       "      <td>4.2</td>\n",
       "    </tr>\n",
       "    <tr>\n",
       "      <th>3</th>\n",
       "      <td>FAMILY</td>\n",
       "      <td>0.253676</td>\n",
       "      <td>0.515660</td>\n",
       "      <td>27.586207</td>\n",
       "      <td>3.448276</td>\n",
       "      <td>68.965517</td>\n",
       "      <td>Reviews_norm</td>\n",
       "      <td>1.000000</td>\n",
       "      <td>15559180.0</td>\n",
       "    </tr>\n",
       "    <tr>\n",
       "      <th>4</th>\n",
       "      <td>PHOTOGRAPHY</td>\n",
       "      <td>0.163922</td>\n",
       "      <td>0.506755</td>\n",
       "      <td>20.512821</td>\n",
       "      <td>2.564103</td>\n",
       "      <td>76.923077</td>\n",
       "      <td>Reviews_norm</td>\n",
       "      <td>0.051922</td>\n",
       "      <td>846360.0</td>\n",
       "    </tr>\n",
       "  </tbody>\n",
       "</table>\n",
       "</div>"
      ],
      "text/plain": [
       "         Category  Sentiment_Polarity  Sentiment_Subjectivity   Negative  \\\n",
       "0          FAMILY            0.253676                0.515660  27.586207   \n",
       "1     PHOTOGRAPHY            0.163922                0.506755  20.512821   \n",
       "2  ART_AND_DESIGN            0.099453                0.536765  32.352941   \n",
       "3          FAMILY            0.253676                0.515660  27.586207   \n",
       "4     PHOTOGRAPHY            0.163922                0.506755  20.512821   \n",
       "\n",
       "     Neutral   Positive        Metric  Value_Index   Value_Raw  \n",
       "0   3.448276  68.965517   Rating_norm     1.000000         4.4  \n",
       "1   2.564103  76.923077   Rating_norm     0.000000         4.0  \n",
       "2  17.647059  50.000000   Rating_norm     0.500000         4.2  \n",
       "3   3.448276  68.965517  Reviews_norm     1.000000  15559180.0  \n",
       "4   2.564103  76.923077  Reviews_norm     0.051922    846360.0  "
      ]
     },
     "execution_count": 27,
     "metadata": {},
     "output_type": "execute_result"
    }
   ],
   "source": [
    "scaler = MinMaxScaler()\n",
    "top10_norm = top10.copy()\n",
    "\n",
    "top10_norm[['Rating_norm', 'Reviews_norm']] = scaler.fit_transform(\n",
    "    top10_norm[['Rating', 'Reviews']]\n",
    ")\n",
    "\n",
    "top10_melt = top10_norm.melt(\n",
    "    id_vars=['Category', 'Sentiment_Polarity', 'Sentiment_Subjectivity', 'Negative', 'Neutral', 'Positive'],\n",
    "    value_vars=['Rating_norm', 'Reviews_norm'],\n",
    "    var_name='Metric',\n",
    "    value_name='Value_Index'\n",
    ")\n",
    "\n",
    "top10_melt['Value_Raw'] = top10_melt.apply(\n",
    "    lambda row: top10_norm.loc[top10_norm['Category'] == row['Category'],\n",
    "                               row['Metric'].replace('_norm', '')].values[0],\n",
    "    axis=1\n",
    ")\n",
    "\n",
    "top10_melt.head()\n"
   ]
  },
  {
   "cell_type": "code",
   "execution_count": 28,
   "id": "39135249-74bb-4e98-94b8-2bfaea0a531b",
   "metadata": {},
   "outputs": [],
   "source": [
    "html_files_paths=\"./\"\n",
    "if not os.path.exists(html_files_paths):\n",
    "    os.makedirs(html_files_path)"
   ]
  },
  {
   "cell_type": "code",
   "execution_count": 29,
   "id": "9b02e9cc-ea50-4a6d-9c2c-0ae524b44c43",
   "metadata": {},
   "outputs": [],
   "source": [
    "plot_containers=\"\""
   ]
  },
  {
   "cell_type": "code",
   "execution_count": 30,
   "id": "f1463750-4497-4de6-9510-7d7cfb50f612",
   "metadata": {},
   "outputs": [],
   "source": [
    "def save_plot_as_html(fig,filename,insight):\n",
    "    global plot_containers\n",
    "    filepath= os.path.join(html_files_paths,filename)\n",
    "    html_content=pio.to_html(fig,full_html=False,include_plotlyjs='inline')\n",
    "    plot_containers+= f\"\"\"\n",
    "    <div class =\"plot-container\" id=\"{filename}\" onclick =\"openPlot('{filename}')\">\n",
    "       <div class=\"plot\">{html_content}</div> \n",
    "       <div class=\"insights\">{insight}</div>\n",
    "    </div>\n",
    "    \"\"\"\n",
    "    fig.write_html(filepath,full_html=False,include_plotlyjs=\"inline\")\n"
   ]
  },
  {
   "cell_type": "code",
   "execution_count": 31,
   "id": "d45ca572-e515-472f-a35a-d09b70f253f5",
   "metadata": {},
   "outputs": [
    {
     "name": "stdout",
     "output_type": "stream",
     "text": [
      "Graph is only available between 3 PM and 5 PM IST.\n"
     ]
    }
   ],
   "source": [
    "ist = pytz.timezone(\"Asia/Kolkata\")\n",
    "now = datetime.now(ist)\n",
    "\n",
    "if 15 <= now.hour < 17:  \n",
    "    fig2 = px.bar(\n",
    "        top10_melt,\n",
    "        x=\"Category\",\n",
    "        y=\"Value_Index\",\n",
    "        color=\"Metric\",\n",
    "        barmode=\"group\",\n",
    "        text=\"Value_Raw\",\n",
    "        title=\"Normalized Avg Rating & Reviews (Top 10 Categories by Installs)\"\n",
    "    )\n",
    "\n",
    "    fig2.update_traces(texttemplate='%{text:.2s}', textposition='outside')\n",
    "    fig2.update_layout(\n",
    "        xaxis_title=\"Category\",\n",
    "        yaxis_title=\"Normalized Value\",\n",
    "        plot_bgcolor=\"black\",\n",
    "        paper_bgcolor=\"black\",\n",
    "        font=dict(color=\"white\"),\n",
    "        legend_title=\"Metric\"\n",
    "    )\n",
    "\n",
    "    save_plot_as_html(\n",
    "        fig2,\n",
    "        \"Top10_Normalized.html\",\n",
    "        \"Grouped bar chart shows normalized Avg Rating and Reviews for top categories, with true values shown on hover/text.\"\n",
    "    )\n",
    "\n",
    "else:\n",
    "    print(\"Graph is only available between 3 PM and 5 PM IST.\")\n"
   ]
  },
  {
   "cell_type": "code",
   "execution_count": 32,
   "id": "be228c2d-8ae0-41cf-a9df-fd497d418d03",
   "metadata": {},
   "outputs": [],
   "source": [
    "plot_containers_split=plot_containers.split('</div')"
   ]
  },
  {
   "cell_type": "code",
   "execution_count": 33,
   "id": "60da0ed7-9950-44de-8c26-7b5e634f0f0c",
   "metadata": {},
   "outputs": [],
   "source": [
    "if len(plot_containers_split) > 1:\n",
    "    final_plot=plot_containers_split[-2]+'</div>'\n",
    "else:\n",
    "    final_plot=plot_containers"
   ]
  },
  {
   "cell_type": "code",
   "execution_count": 34,
   "id": "841f0b83-286d-4cbc-b04e-5c8a132ed652",
   "metadata": {},
   "outputs": [],
   "source": [
    "dashboard_html= \"\"\"\n",
    "<!DOCTYPE html>\n",
    "<html lang=\"en\">\n",
    "<head>\n",
    "     <meta charset=\"UTF-8\">\n",
    "     <meta name=viewport\" content=\"width=device-width,initial-scale-1.0\">\n",
    "     <title>Google Play Store Review Analytics</title>\n",
    "     <style>\n",
    "        body {{ \n",
    "            font-family: Arial, sans-serif;\n",
    "            background-color: #333;\n",
    "            color: #fff;\n",
    "            margin: 0;\n",
    "            padding: 0;\n",
    "         }}\n",
    "         .header{{\n",
    "            display: flex;\n",
    "            align-items: center;\n",
    "            justify-content: center;\n",
    "            padding: 20px;\n",
    "            background-color: #444;\n",
    "        }}\n",
    "        .header img{{\n",
    "            margin: 0 10px;\n",
    "            height: 50px;\n",
    "        }}\n",
    "        .container{{\n",
    "            display: flex;\n",
    "            flex-wrap: wrap;\n",
    "            justify-content: center;\n",
    "            padding: 20px;\n",
    "        }}\n",
    "        .plot-container{{\n",
    "            border: 2px solid #555;\n",
    "            margin: 10px;\n",
    "            padding: 10px;\n",
    "            width: {plot_width}px;\n",
    "            height: {plot_height}px;\n",
    "            overflow: hidden;\n",
    "            position: relative;\n",
    "            cursor: pointer;\n",
    "        }}\n",
    "        .insights{{\n",
    "            display: none;\n",
    "            position: absolute;\n",
    "            right: 10px;\n",
    "            top: 10px;\n",
    "            background-color: rgba(0,0,0,0.7);\n",
    "            padding: 5px;\n",
    "            border-radius: 5px;\n",
    "            color: #fff;\n",
    "        }}\n",
    "        .plot-container:hover .insights{{ \n",
    "            display: block;\n",
    "        }}\n",
    "        </style>\n",
    "        <script>\n",
    "             function openPlot(filename){{\n",
    "                 window.open(filename,'_blank');\n",
    "                 }}\n",
    "        </script>\n",
    "    </head>\n",
    "    <body>\n",
    "        <div class= \"header\">\n",
    "            <img src=\"https://www.keyweo.com/wp-content/uploads/2022/04/google-logo-history.jpg\" alt=\"Google logo\">\n",
    "            <h1>Google Play Store Review Analytics</h1>\n",
    "            <img src=\"https://www.sociocs.com/images/badge-google-play.png\" alt=\"Google Play Store Logo\">\n",
    "        </div>\n",
    "        <div class=\"container\">\n",
    "            {plots}\n",
    "        </div>\n",
    "    </body>\n",
    "    </html>\n",
    "    \"\"\""
   ]
  },
  {
   "cell_type": "code",
   "execution_count": 35,
   "id": "aa7353a6-6f9c-480b-884e-8dcb534b91ac",
   "metadata": {},
   "outputs": [],
   "source": [
    "plot_width=400\n",
    "plot_height=300\n",
    "plot_bg_color='black'\n",
    "text_color='white'\n",
    "title_font={'size':16}\n",
    "axis_font={'size':12}\n"
   ]
  },
  {
   "cell_type": "code",
   "execution_count": 36,
   "id": "b80b39b8-01ab-4355-b8fd-7f2b0851cefb",
   "metadata": {},
   "outputs": [],
   "source": [
    "final_html=dashboard_html.format(plots=plot_containers, plot_width=plot_width, plot_height=plot_height)"
   ]
  },
  {
   "cell_type": "code",
   "execution_count": 37,
   "id": "6c401f31-d24f-4dc9-a3f0-5d8399e48bac",
   "metadata": {},
   "outputs": [],
   "source": [
    "dashboard_path=os.path.join(html_files_paths,\"web page.html\")"
   ]
  },
  {
   "cell_type": "code",
   "execution_count": 38,
   "id": "01157e84-fc4c-4be2-8265-f00da8a04163",
   "metadata": {},
   "outputs": [],
   "source": [
    "with open(dashboard_path, \"w\", encoding=\"utf-8\") as f:\n",
    "    f.write(final_html)"
   ]
  },
  {
   "cell_type": "code",
   "execution_count": 39,
   "id": "65da341c-4fa5-427f-9ea0-fa845e8a819e",
   "metadata": {},
   "outputs": [
    {
     "data": {
      "text/plain": [
       "True"
      ]
     },
     "execution_count": 39,
     "metadata": {},
     "output_type": "execute_result"
    }
   ],
   "source": [
    "webbrowser.open('file://'+os.path.realpath(dashboard_path))"
   ]
  },
  {
   "cell_type": "code",
   "execution_count": null,
   "id": "3338f5f3-6ca6-4827-92fe-79ed3786d5af",
   "metadata": {},
   "outputs": [],
   "source": []
  }
 ],
 "metadata": {
  "kernelspec": {
   "display_name": "Python [conda env:base] *",
   "language": "python",
   "name": "conda-base-py"
  },
  "language_info": {
   "codemirror_mode": {
    "name": "ipython",
    "version": 3
   },
   "file_extension": ".py",
   "mimetype": "text/x-python",
   "name": "python",
   "nbconvert_exporter": "python",
   "pygments_lexer": "ipython3",
   "version": "3.12.7"
  }
 },
 "nbformat": 4,
 "nbformat_minor": 5
}
