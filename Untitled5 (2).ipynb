{
 "cells": [
  {
   "cell_type": "code",
   "execution_count": 1,
   "id": "97d4e16b-d516-4e84-9a8d-6ed1d641b2ae",
   "metadata": {},
   "outputs": [],
   "source": [
    "#Step 1:Importing Libraries\n",
    "import pandas as pd\n",
    "import numpy as np\n",
    "import plotly.express as px\n",
    "import plotly.io as pio\n",
    "from datetime import datetime\n",
    "from nltk.sentiment.vader import SentimentIntensityAnalyzer\n",
    "import pytz\n",
    "import nltk\n",
    "import webbrowser\n",
    "import os\n",
    "import re                      "
   ]
  },
  {
   "cell_type": "code",
   "execution_count": 2,
   "id": "8a26f007-bf2f-4610-ab3c-72a924cabb55",
   "metadata": {},
   "outputs": [
    {
     "name": "stderr",
     "output_type": "stream",
     "text": [
      "[nltk_data] Downloading package vader_lexicon to\n",
      "[nltk_data]     C:\\Users\\souja\\AppData\\Roaming\\nltk_data...\n",
      "[nltk_data]   Package vader_lexicon is already up-to-date!\n"
     ]
    },
    {
     "data": {
      "text/plain": [
       "True"
      ]
     },
     "execution_count": 2,
     "metadata": {},
     "output_type": "execute_result"
    }
   ],
   "source": [
    "nltk.download('vader_lexicon')"
   ]
  },
  {
   "cell_type": "code",
   "execution_count": 3,
   "id": "26ef3125-3b73-428c-a3cf-f35964f2ddc6",
   "metadata": {},
   "outputs": [],
   "source": [
    "#You are required to create a stacked area chart to visualize the cumulative number of installs over time for each app category, with each category \n",
    "#represented as a separate color band in the chart. Apply the following filters before plotting: include only apps with an average rating of at least\n",
    "#4.2, app names that do not contain any numbers, app categories that start with the letter “T” or “P,” reviews greater than 1,000, and app sizes between\n",
    "#20 MB and 80 MB. In the chart legend, translate “Travel & Local” into French, “Productivity” into Spanish, and “Photography” into Japanese. Highlight\n",
    "#by increasing the color intensity for any month where total installs increased by more than 25% month-over-month for any category. This visualization\n",
    "#must only be displayed between 4 PM IST and 6 PM IST, and it should not appear on the dashboard outside this time window."
   ]
  },
  {
   "cell_type": "code",
   "execution_count": 4,
   "id": "401fd3a8-a9ab-4cba-a3dd-812dd99fdb04",
   "metadata": {},
   "outputs": [],
   "source": [
    "#Step 2:Data Cleaning"
   ]
  },
  {
   "cell_type": "code",
   "execution_count": 5,
   "id": "ff0a199f-0113-4014-9ff2-52c21c6ffae5",
   "metadata": {},
   "outputs": [],
   "source": [
    "apps_df=pd.read_csv('Play Store Data.csv')\n",
    "reviews_df=pd.read_csv('User Reviews.csv')"
   ]
  },
  {
   "cell_type": "code",
   "execution_count": 6,
   "id": "7688a538-f389-40a2-8ec3-d0bab1dc42ba",
   "metadata": {},
   "outputs": [],
   "source": [
    "merged_df = pd.merge(apps_df, reviews_df, on='App', how='inner')"
   ]
  },
  {
   "cell_type": "code",
   "execution_count": 7,
   "id": "75ed5000-94e4-4549-9ee2-082400cc846e",
   "metadata": {},
   "outputs": [
    {
     "data": {
      "text/html": [
       "<div>\n",
       "<style scoped>\n",
       "    .dataframe tbody tr th:only-of-type {\n",
       "        vertical-align: middle;\n",
       "    }\n",
       "\n",
       "    .dataframe tbody tr th {\n",
       "        vertical-align: top;\n",
       "    }\n",
       "\n",
       "    .dataframe thead th {\n",
       "        text-align: right;\n",
       "    }\n",
       "</style>\n",
       "<table border=\"1\" class=\"dataframe\">\n",
       "  <thead>\n",
       "    <tr style=\"text-align: right;\">\n",
       "      <th></th>\n",
       "      <th>App</th>\n",
       "      <th>Category</th>\n",
       "      <th>Rating</th>\n",
       "      <th>Reviews</th>\n",
       "      <th>Size</th>\n",
       "      <th>Installs</th>\n",
       "      <th>Type</th>\n",
       "      <th>Price</th>\n",
       "      <th>Content Rating</th>\n",
       "      <th>Genres</th>\n",
       "      <th>Last Updated</th>\n",
       "      <th>Current Ver</th>\n",
       "      <th>Android Ver</th>\n",
       "      <th>Translated_Review</th>\n",
       "      <th>Sentiment</th>\n",
       "      <th>Sentiment_Polarity</th>\n",
       "      <th>Sentiment_Subjectivity</th>\n",
       "    </tr>\n",
       "  </thead>\n",
       "  <tbody>\n",
       "    <tr>\n",
       "      <th>0</th>\n",
       "      <td>Coloring book moana</td>\n",
       "      <td>ART_AND_DESIGN</td>\n",
       "      <td>3.9</td>\n",
       "      <td>967</td>\n",
       "      <td>14M</td>\n",
       "      <td>500,000+</td>\n",
       "      <td>Free</td>\n",
       "      <td>0</td>\n",
       "      <td>Everyone</td>\n",
       "      <td>Art &amp; Design;Pretend Play</td>\n",
       "      <td>January 15, 2018</td>\n",
       "      <td>2.0.0</td>\n",
       "      <td>4.0.3 and up</td>\n",
       "      <td>A kid's excessive ads. The types ads allowed a...</td>\n",
       "      <td>Negative</td>\n",
       "      <td>-0.250</td>\n",
       "      <td>1.000000</td>\n",
       "    </tr>\n",
       "    <tr>\n",
       "      <th>1</th>\n",
       "      <td>Coloring book moana</td>\n",
       "      <td>ART_AND_DESIGN</td>\n",
       "      <td>3.9</td>\n",
       "      <td>967</td>\n",
       "      <td>14M</td>\n",
       "      <td>500,000+</td>\n",
       "      <td>Free</td>\n",
       "      <td>0</td>\n",
       "      <td>Everyone</td>\n",
       "      <td>Art &amp; Design;Pretend Play</td>\n",
       "      <td>January 15, 2018</td>\n",
       "      <td>2.0.0</td>\n",
       "      <td>4.0.3 and up</td>\n",
       "      <td>It bad &gt;:(</td>\n",
       "      <td>Negative</td>\n",
       "      <td>-0.725</td>\n",
       "      <td>0.833333</td>\n",
       "    </tr>\n",
       "    <tr>\n",
       "      <th>2</th>\n",
       "      <td>Coloring book moana</td>\n",
       "      <td>ART_AND_DESIGN</td>\n",
       "      <td>3.9</td>\n",
       "      <td>967</td>\n",
       "      <td>14M</td>\n",
       "      <td>500,000+</td>\n",
       "      <td>Free</td>\n",
       "      <td>0</td>\n",
       "      <td>Everyone</td>\n",
       "      <td>Art &amp; Design;Pretend Play</td>\n",
       "      <td>January 15, 2018</td>\n",
       "      <td>2.0.0</td>\n",
       "      <td>4.0.3 and up</td>\n",
       "      <td>like</td>\n",
       "      <td>Neutral</td>\n",
       "      <td>0.000</td>\n",
       "      <td>0.000000</td>\n",
       "    </tr>\n",
       "    <tr>\n",
       "      <th>3</th>\n",
       "      <td>Coloring book moana</td>\n",
       "      <td>ART_AND_DESIGN</td>\n",
       "      <td>3.9</td>\n",
       "      <td>967</td>\n",
       "      <td>14M</td>\n",
       "      <td>500,000+</td>\n",
       "      <td>Free</td>\n",
       "      <td>0</td>\n",
       "      <td>Everyone</td>\n",
       "      <td>Art &amp; Design;Pretend Play</td>\n",
       "      <td>January 15, 2018</td>\n",
       "      <td>2.0.0</td>\n",
       "      <td>4.0.3 and up</td>\n",
       "      <td>NaN</td>\n",
       "      <td>NaN</td>\n",
       "      <td>NaN</td>\n",
       "      <td>NaN</td>\n",
       "    </tr>\n",
       "    <tr>\n",
       "      <th>4</th>\n",
       "      <td>Coloring book moana</td>\n",
       "      <td>ART_AND_DESIGN</td>\n",
       "      <td>3.9</td>\n",
       "      <td>967</td>\n",
       "      <td>14M</td>\n",
       "      <td>500,000+</td>\n",
       "      <td>Free</td>\n",
       "      <td>0</td>\n",
       "      <td>Everyone</td>\n",
       "      <td>Art &amp; Design;Pretend Play</td>\n",
       "      <td>January 15, 2018</td>\n",
       "      <td>2.0.0</td>\n",
       "      <td>4.0.3 and up</td>\n",
       "      <td>I love colors inspyering</td>\n",
       "      <td>Positive</td>\n",
       "      <td>0.500</td>\n",
       "      <td>0.600000</td>\n",
       "    </tr>\n",
       "    <tr>\n",
       "      <th>...</th>\n",
       "      <td>...</td>\n",
       "      <td>...</td>\n",
       "      <td>...</td>\n",
       "      <td>...</td>\n",
       "      <td>...</td>\n",
       "      <td>...</td>\n",
       "      <td>...</td>\n",
       "      <td>...</td>\n",
       "      <td>...</td>\n",
       "      <td>...</td>\n",
       "      <td>...</td>\n",
       "      <td>...</td>\n",
       "      <td>...</td>\n",
       "      <td>...</td>\n",
       "      <td>...</td>\n",
       "      <td>...</td>\n",
       "      <td>...</td>\n",
       "    </tr>\n",
       "    <tr>\n",
       "      <th>122657</th>\n",
       "      <td>FP Notebook</td>\n",
       "      <td>MEDICAL</td>\n",
       "      <td>4.5</td>\n",
       "      <td>410</td>\n",
       "      <td>60M</td>\n",
       "      <td>50,000+</td>\n",
       "      <td>Free</td>\n",
       "      <td>0</td>\n",
       "      <td>Everyone</td>\n",
       "      <td>Medical</td>\n",
       "      <td>March 24, 2018</td>\n",
       "      <td>2.1.0.372</td>\n",
       "      <td>4.4 and up</td>\n",
       "      <td>NaN</td>\n",
       "      <td>NaN</td>\n",
       "      <td>NaN</td>\n",
       "      <td>NaN</td>\n",
       "    </tr>\n",
       "    <tr>\n",
       "      <th>122658</th>\n",
       "      <td>FP Notebook</td>\n",
       "      <td>MEDICAL</td>\n",
       "      <td>4.5</td>\n",
       "      <td>410</td>\n",
       "      <td>60M</td>\n",
       "      <td>50,000+</td>\n",
       "      <td>Free</td>\n",
       "      <td>0</td>\n",
       "      <td>Everyone</td>\n",
       "      <td>Medical</td>\n",
       "      <td>March 24, 2018</td>\n",
       "      <td>2.1.0.372</td>\n",
       "      <td>4.4 and up</td>\n",
       "      <td>NaN</td>\n",
       "      <td>NaN</td>\n",
       "      <td>NaN</td>\n",
       "      <td>NaN</td>\n",
       "    </tr>\n",
       "    <tr>\n",
       "      <th>122659</th>\n",
       "      <td>FP Notebook</td>\n",
       "      <td>MEDICAL</td>\n",
       "      <td>4.5</td>\n",
       "      <td>410</td>\n",
       "      <td>60M</td>\n",
       "      <td>50,000+</td>\n",
       "      <td>Free</td>\n",
       "      <td>0</td>\n",
       "      <td>Everyone</td>\n",
       "      <td>Medical</td>\n",
       "      <td>March 24, 2018</td>\n",
       "      <td>2.1.0.372</td>\n",
       "      <td>4.4 and up</td>\n",
       "      <td>NaN</td>\n",
       "      <td>NaN</td>\n",
       "      <td>NaN</td>\n",
       "      <td>NaN</td>\n",
       "    </tr>\n",
       "    <tr>\n",
       "      <th>122660</th>\n",
       "      <td>FP Notebook</td>\n",
       "      <td>MEDICAL</td>\n",
       "      <td>4.5</td>\n",
       "      <td>410</td>\n",
       "      <td>60M</td>\n",
       "      <td>50,000+</td>\n",
       "      <td>Free</td>\n",
       "      <td>0</td>\n",
       "      <td>Everyone</td>\n",
       "      <td>Medical</td>\n",
       "      <td>March 24, 2018</td>\n",
       "      <td>2.1.0.372</td>\n",
       "      <td>4.4 and up</td>\n",
       "      <td>NaN</td>\n",
       "      <td>NaN</td>\n",
       "      <td>NaN</td>\n",
       "      <td>NaN</td>\n",
       "    </tr>\n",
       "    <tr>\n",
       "      <th>122661</th>\n",
       "      <td>FP Notebook</td>\n",
       "      <td>MEDICAL</td>\n",
       "      <td>4.5</td>\n",
       "      <td>410</td>\n",
       "      <td>60M</td>\n",
       "      <td>50,000+</td>\n",
       "      <td>Free</td>\n",
       "      <td>0</td>\n",
       "      <td>Everyone</td>\n",
       "      <td>Medical</td>\n",
       "      <td>March 24, 2018</td>\n",
       "      <td>2.1.0.372</td>\n",
       "      <td>4.4 and up</td>\n",
       "      <td>NaN</td>\n",
       "      <td>NaN</td>\n",
       "      <td>NaN</td>\n",
       "      <td>NaN</td>\n",
       "    </tr>\n",
       "  </tbody>\n",
       "</table>\n",
       "<p>122662 rows × 17 columns</p>\n",
       "</div>"
      ],
      "text/plain": [
       "                        App        Category  Rating Reviews Size  Installs  \\\n",
       "0       Coloring book moana  ART_AND_DESIGN     3.9     967  14M  500,000+   \n",
       "1       Coloring book moana  ART_AND_DESIGN     3.9     967  14M  500,000+   \n",
       "2       Coloring book moana  ART_AND_DESIGN     3.9     967  14M  500,000+   \n",
       "3       Coloring book moana  ART_AND_DESIGN     3.9     967  14M  500,000+   \n",
       "4       Coloring book moana  ART_AND_DESIGN     3.9     967  14M  500,000+   \n",
       "...                     ...             ...     ...     ...  ...       ...   \n",
       "122657          FP Notebook         MEDICAL     4.5     410  60M   50,000+   \n",
       "122658          FP Notebook         MEDICAL     4.5     410  60M   50,000+   \n",
       "122659          FP Notebook         MEDICAL     4.5     410  60M   50,000+   \n",
       "122660          FP Notebook         MEDICAL     4.5     410  60M   50,000+   \n",
       "122661          FP Notebook         MEDICAL     4.5     410  60M   50,000+   \n",
       "\n",
       "        Type Price Content Rating                     Genres  \\\n",
       "0       Free     0       Everyone  Art & Design;Pretend Play   \n",
       "1       Free     0       Everyone  Art & Design;Pretend Play   \n",
       "2       Free     0       Everyone  Art & Design;Pretend Play   \n",
       "3       Free     0       Everyone  Art & Design;Pretend Play   \n",
       "4       Free     0       Everyone  Art & Design;Pretend Play   \n",
       "...      ...   ...            ...                        ...   \n",
       "122657  Free     0       Everyone                    Medical   \n",
       "122658  Free     0       Everyone                    Medical   \n",
       "122659  Free     0       Everyone                    Medical   \n",
       "122660  Free     0       Everyone                    Medical   \n",
       "122661  Free     0       Everyone                    Medical   \n",
       "\n",
       "            Last Updated Current Ver   Android Ver  \\\n",
       "0       January 15, 2018       2.0.0  4.0.3 and up   \n",
       "1       January 15, 2018       2.0.0  4.0.3 and up   \n",
       "2       January 15, 2018       2.0.0  4.0.3 and up   \n",
       "3       January 15, 2018       2.0.0  4.0.3 and up   \n",
       "4       January 15, 2018       2.0.0  4.0.3 and up   \n",
       "...                  ...         ...           ...   \n",
       "122657    March 24, 2018   2.1.0.372    4.4 and up   \n",
       "122658    March 24, 2018   2.1.0.372    4.4 and up   \n",
       "122659    March 24, 2018   2.1.0.372    4.4 and up   \n",
       "122660    March 24, 2018   2.1.0.372    4.4 and up   \n",
       "122661    March 24, 2018   2.1.0.372    4.4 and up   \n",
       "\n",
       "                                        Translated_Review Sentiment  \\\n",
       "0       A kid's excessive ads. The types ads allowed a...  Negative   \n",
       "1                                              It bad >:(  Negative   \n",
       "2                                                    like   Neutral   \n",
       "3                                                     NaN       NaN   \n",
       "4                                I love colors inspyering  Positive   \n",
       "...                                                   ...       ...   \n",
       "122657                                                NaN       NaN   \n",
       "122658                                                NaN       NaN   \n",
       "122659                                                NaN       NaN   \n",
       "122660                                                NaN       NaN   \n",
       "122661                                                NaN       NaN   \n",
       "\n",
       "        Sentiment_Polarity  Sentiment_Subjectivity  \n",
       "0                   -0.250                1.000000  \n",
       "1                   -0.725                0.833333  \n",
       "2                    0.000                0.000000  \n",
       "3                      NaN                     NaN  \n",
       "4                    0.500                0.600000  \n",
       "...                    ...                     ...  \n",
       "122657                 NaN                     NaN  \n",
       "122658                 NaN                     NaN  \n",
       "122659                 NaN                     NaN  \n",
       "122660                 NaN                     NaN  \n",
       "122661                 NaN                     NaN  \n",
       "\n",
       "[122662 rows x 17 columns]"
      ]
     },
     "execution_count": 7,
     "metadata": {},
     "output_type": "execute_result"
    }
   ],
   "source": [
    "merged_df"
   ]
  },
  {
   "cell_type": "code",
   "execution_count": 8,
   "id": "c73fc5b0-256a-4b6b-aa56-4ad5cc020d44",
   "metadata": {},
   "outputs": [
    {
     "data": {
      "text/plain": [
       "App                        object\n",
       "Category                   object\n",
       "Rating                    float64\n",
       "Reviews                    object\n",
       "Size                       object\n",
       "Installs                   object\n",
       "Type                       object\n",
       "Price                      object\n",
       "Content Rating             object\n",
       "Genres                     object\n",
       "Last Updated               object\n",
       "Current Ver                object\n",
       "Android Ver                object\n",
       "Translated_Review          object\n",
       "Sentiment                  object\n",
       "Sentiment_Polarity        float64\n",
       "Sentiment_Subjectivity    float64\n",
       "dtype: object"
      ]
     },
     "execution_count": 8,
     "metadata": {},
     "output_type": "execute_result"
    }
   ],
   "source": [
    "merged_df.dtypes"
   ]
  },
  {
   "cell_type": "code",
   "execution_count": 9,
   "id": "094ee683-7f34-46e4-aaef-7c750b64fbd0",
   "metadata": {},
   "outputs": [],
   "source": [
    "merged_df = merged_df[merged_df['Rating'] >= 4.2]"
   ]
  },
  {
   "cell_type": "code",
   "execution_count": 10,
   "id": "6211d174-f754-4724-bc10-17aa88494b55",
   "metadata": {},
   "outputs": [],
   "source": [
    "merged_df = merged_df[~merged_df['App'].str.contains(r'\\d', regex=True)]"
   ]
  },
  {
   "cell_type": "code",
   "execution_count": 11,
   "id": "b9aefd91-478f-4868-84e0-dae6e7e20c06",
   "metadata": {},
   "outputs": [],
   "source": [
    "merged_df['Reviews'] = pd.to_numeric(merged_df['Reviews'], errors='coerce')\n",
    "merged_df = merged_df[merged_df['Reviews'] > 1000]"
   ]
  },
  {
   "cell_type": "code",
   "execution_count": 12,
   "id": "792d2973-535f-4b81-8cd6-262c246683a9",
   "metadata": {},
   "outputs": [],
   "source": [
    "merged_df['Size'] = merged_df['Size'].replace('Varies with device', np.nan)\n",
    "\n",
    "def convert_size(size_str):\n",
    "    if pd.isna(size_str):\n",
    "        return np.nan\n",
    "    if 'M' in size_str:\n",
    "        return float(size_str.replace('M', ''))\n",
    "    elif 'k' in size_str:\n",
    "        return float(size_str.replace('k', '')) / 1024  # Convert kB to MB\n",
    "    else:\n",
    "        return np.nan\n",
    "\n",
    "merged_df['Size_MB'] = merged_df['Size'].apply(convert_size)\n",
    "merged_df = merged_df[(merged_df['Size_MB'] >= 20) & (merged_df['Size_MB'] <= 80)]"
   ]
  },
  {
   "cell_type": "code",
   "execution_count": 13,
   "id": "a2d4f20d-2c2d-4557-8fb3-705c7b885e35",
   "metadata": {},
   "outputs": [],
   "source": [
    "merged_df['Category'] = (\n",
    "    merged_df['Category']\n",
    "    .str.strip()\n",
    "    .str.replace('_', ' ')\n",
    ")"
   ]
  },
  {
   "cell_type": "code",
   "execution_count": 14,
   "id": "dfbe936e-01da-4898-ac6a-a194c3dee334",
   "metadata": {},
   "outputs": [],
   "source": [
    "merged_df = merged_df[merged_df['Category'].str.startswith(('T', 'P'))]"
   ]
  },
  {
   "cell_type": "code",
   "execution_count": 15,
   "id": "812f7482-a416-4551-9af5-f5c0f3f69d84",
   "metadata": {},
   "outputs": [],
   "source": [
    "category_translation = {\n",
    "    \"Travel And Local\": \"Voyage et local\",   # French\n",
    "    \"Productivity\": \"Productividad\",         # Spanish\n",
    "    \"Photography\": \"写真\",                     # Japanese\n",
    "    \"Tools\": \"Tools\",                        # leave untranslated (or give custom)\n",
    "    \"Personalization\": \"Personalización\",    # Spanish\n",
    "    \"Parenting\": \"Parentalité\"               # French (or choose another)\n",
    "}\n",
    "\n",
    "merged_df['Category_Translated'] = merged_df['Category'].map(category_translation)"
   ]
  },
  {
   "cell_type": "code",
   "execution_count": 16,
   "id": "30706dc9-25ea-48b5-ae9d-d13b7b529e9c",
   "metadata": {},
   "outputs": [
    {
     "name": "stdout",
     "output_type": "stream",
     "text": [
      "Missing Translations: ['PHOTOGRAPHY' 'TRAVEL AND LOCAL' 'TOOLS' 'PERSONALIZATION' 'PRODUCTIVITY'\n",
      " 'PARENTING']\n"
     ]
    }
   ],
   "source": [
    "missing = merged_df[merged_df['Category_Translated'].isna()]['Category'].unique()\n",
    "print(\"Missing Translations:\", missing)"
   ]
  },
  {
   "cell_type": "code",
   "execution_count": 17,
   "id": "385bc5e5-b66d-4d2e-b0e5-34f234246916",
   "metadata": {},
   "outputs": [],
   "source": [
    "#Step 3:Data Transmission"
   ]
  },
  {
   "cell_type": "code",
   "execution_count": 18,
   "id": "b65a08d9-a0ff-425c-843d-eb2ed2e38434",
   "metadata": {},
   "outputs": [],
   "source": [
    "merged_df['Last_Updated_DT'] = pd.to_datetime(merged_df['Last Updated'], errors='coerce')"
   ]
  },
  {
   "cell_type": "code",
   "execution_count": 19,
   "id": "5b77ea85-3bae-4a53-b670-9f2d46fb4869",
   "metadata": {},
   "outputs": [],
   "source": [
    "merged_df['Year_Month'] = merged_df['Last_Updated_DT'].dt.to_period('M').dt.to_timestamp()\n"
   ]
  },
  {
   "cell_type": "code",
   "execution_count": 20,
   "id": "83cbcde0-2b95-4001-9a3e-4dae78b6681c",
   "metadata": {},
   "outputs": [],
   "source": [
    "merged_df['Installs'] = (\n",
    "    merged_df['Installs'].astype(str)\n",
    "    .str.replace('[+,]', '', regex=True)\n",
    "    .astype(float)\n",
    ")"
   ]
  },
  {
   "cell_type": "code",
   "execution_count": 21,
   "id": "2c2464f7-c407-4d0f-a9ca-c54f5d8f0106",
   "metadata": {},
   "outputs": [],
   "source": [
    "grouped_df = (\n",
    "    merged_df.groupby(['Year_Month', 'Category_Translated'])['Installs']\n",
    "    .sum()\n",
    "    .reset_index()\n",
    ")"
   ]
  },
  {
   "cell_type": "code",
   "execution_count": 22,
   "id": "696565c7-ad6b-49b6-b0c0-bba2758d8b78",
   "metadata": {},
   "outputs": [],
   "source": [
    "grouped_df = grouped_df.sort_values(by=['Category_Translated', 'Year_Month'])"
   ]
  },
  {
   "cell_type": "code",
   "execution_count": 23,
   "id": "6cf66aa9-0d52-4411-a616-80b7d24abe33",
   "metadata": {},
   "outputs": [],
   "source": [
    "grouped_df['Cumulative_Installs'] = (\n",
    "    grouped_df.groupby('Category_Translated')['Installs'].cumsum()\n",
    ")"
   ]
  },
  {
   "cell_type": "code",
   "execution_count": 24,
   "id": "cf6ba590-ecce-4844-9cdc-8337850ee37f",
   "metadata": {},
   "outputs": [],
   "source": [
    "grouped_df['Prev_Month_Installs'] = (\n",
    "    grouped_df.groupby('Category_Translated')['Installs'].shift(1)\n",
    ")"
   ]
  },
  {
   "cell_type": "code",
   "execution_count": 25,
   "id": "872b130f-4302-4762-b0c6-d4d34a4aa767",
   "metadata": {},
   "outputs": [],
   "source": [
    "grouped_df['MoM_Change_Percent'] = (\n",
    "    (grouped_df['Installs'] - grouped_df['Prev_Month_Installs']) /\n",
    "    grouped_df['Prev_Month_Installs']\n",
    ") * 100"
   ]
  },
  {
   "cell_type": "code",
   "execution_count": 26,
   "id": "9a035acb-cb01-4d74-9889-81b287ea68d6",
   "metadata": {},
   "outputs": [],
   "source": [
    "grouped_df['Highlight'] = grouped_df['MoM_Change_Percent'] > 25"
   ]
  },
  {
   "cell_type": "code",
   "execution_count": 27,
   "id": "d9842a55-ac61-4c18-a335-36516d3267bc",
   "metadata": {},
   "outputs": [
    {
     "name": "stdout",
     "output_type": "stream",
     "text": [
      "['Year_Month', 'Category_Translated', 'Installs', 'Cumulative_Installs', 'Prev_Month_Installs', 'MoM_Change_Percent', 'Highlight']\n",
      "Empty DataFrame\n",
      "Columns: [Year_Month, Category_Translated, Installs, Cumulative_Installs, Prev_Month_Installs, MoM_Change_Percent, Highlight]\n",
      "Index: []\n"
     ]
    }
   ],
   "source": [
    "print(grouped_df.columns.tolist())\n",
    "print(grouped_df.head())"
   ]
  },
  {
   "cell_type": "code",
   "execution_count": 28,
   "id": "c478685a-1e85-4eea-8b2c-b3a227a82aae",
   "metadata": {},
   "outputs": [],
   "source": [
    "#Step 5:Plotting Graph"
   ]
  },
  {
   "cell_type": "code",
   "execution_count": 29,
   "id": "163eb772-6179-4e10-9c04-f536cdea97e8",
   "metadata": {},
   "outputs": [],
   "source": [
    "html_files_paths=\"./\"\n",
    "if not os.path.exists(html_files_paths):\n",
    "    os.makedirs(html_files_path)"
   ]
  },
  {
   "cell_type": "code",
   "execution_count": 30,
   "id": "db4e119e-7bf4-4667-8894-3476fa158ccb",
   "metadata": {},
   "outputs": [],
   "source": [
    "plot_containers=\"\""
   ]
  },
  {
   "cell_type": "code",
   "execution_count": 31,
   "id": "74fd54ad-a218-4267-b1f9-b70d35118355",
   "metadata": {},
   "outputs": [],
   "source": [
    "def save_plot_as_html(fig,filename,insight):\n",
    "    global plot_containers\n",
    "    filepath= os.path.join(html_files_paths,filename)\n",
    "    html_content=pio.to_html(fig,full_html=False,include_plotlyjs='inline')\n",
    "    plot_containers+= f\"\"\"\n",
    "    <div class =\"plot-container\" id=\"{filename}\" onclick =\"openPlot('{filename}')\">\n",
    "       <div class=\"plot\">{html_content}</div> \n",
    "       <div class=\"insights\">{insight}</div>\n",
    "    </div>\n",
    "    \"\"\"\n",
    "    fig.write_html(filepath,full_html=False,include_plotlyjs=\"inline\")"
   ]
  },
  {
   "cell_type": "code",
   "execution_count": 32,
   "id": "a247c0bc-6abf-4291-bdf5-28904f4af084",
   "metadata": {},
   "outputs": [
    {
     "name": "stdout",
     "output_type": "stream",
     "text": [
      "Graph is only available between 4 PM and 6 PM IST.\n"
     ]
    }
   ],
   "source": [
    "ist = pytz.timezone(\"Asia/Kolkata\")\n",
    "now = datetime.now(ist)\n",
    "\n",
    "if 16 <= now.hour < 18:\n",
    "\n",
    "    fig5 = px.area(\n",
    "        grouped_df,\n",
    "        x='Year_Month',\n",
    "        y='Cumulative_Installs',\n",
    "        color='Category_Translated',\n",
    "        line_group='Category_Translated',\n",
    "        labels={'Cumulative_Installs': 'Cumulative Installs', 'Year_Month': 'Month'},\n",
    "        title='Cumulative App Installs Over Time by Category'\n",
    "    )\n",
    "    \n",
    "    for i, row in grouped_df.iterrows():\n",
    "        if row['Highlight']:\n",
    "            fig5.add_vrect(\n",
    "                x0=str(row['Year_Month']),\n",
    "                x1=str(row['Year_Month']),\n",
    "                fillcolor=\"yellow\",\n",
    "                opacity=0.3,\n",
    "                layer=\"below\",\n",
    "                line_width=0\n",
    "            )\n",
    "    \n",
    "    fig5.update_layout(\n",
    "        plot_bgcolor='black',\n",
    "        paper_bgcolor='black',\n",
    "        font_color='white'\n",
    "    )\n",
    "\n",
    "    fig5.update_yaxes(title=\"Cumulative Installs\", tickformat=\"~s\")\n",
    "\n",
    "    fig5.show()\n",
    "    save_plot_as_html(\n",
    "        fig5,\n",
    "        \"Cumulative_Installs_Over_Time.html\",\n",
    "        \"Stacked area chart showing cumulative installs per category over time. Months with >25% growth are highlighted.\"\n",
    "    )\n",
    "\n",
    "else:\n",
    "    print(\"Graph is only available between 4 PM and 6 PM IST.\")"
   ]
  },
  {
   "cell_type": "code",
   "execution_count": 33,
   "id": "3c12d8c2-715b-415c-9f78-30926b1e8bc9",
   "metadata": {},
   "outputs": [],
   "source": [
    "plot_containers_split=plot_containers.split('</div')"
   ]
  },
  {
   "cell_type": "code",
   "execution_count": 34,
   "id": "505d86ca-81d5-4c13-877f-29bd93060e83",
   "metadata": {},
   "outputs": [],
   "source": [
    "if len(plot_containers_split) > 1:\n",
    "    final_plot=plot_containers_split[-2]+'</div>'\n",
    "else:\n",
    "    final_plot=plot_containers"
   ]
  },
  {
   "cell_type": "code",
   "execution_count": 35,
   "id": "26b003bc-50f8-4486-93eb-753883d2bdd1",
   "metadata": {},
   "outputs": [],
   "source": [
    "dashboard_html= \"\"\"\n",
    "<!DOCTYPE html>\n",
    "<html lang=\"en\">\n",
    "<head>\n",
    "     <meta charset=\"UTF-8\">\n",
    "     <meta name=viewport\" content=\"width=device-width,initial-scale-1.0\">\n",
    "     <title>Google Play Store Review Analytics</title>\n",
    "     <style>\n",
    "        body {{ \n",
    "            font-family: Arial, sans-serif;\n",
    "            background-color: #333;\n",
    "            color: #fff;\n",
    "            margin: 0;\n",
    "            padding: 0;\n",
    "         }}\n",
    "         .header{{\n",
    "            display: flex;\n",
    "            align-items: center;\n",
    "            justify-content: center;\n",
    "            padding: 20px;\n",
    "            background-color: #444;\n",
    "        }}\n",
    "        .header img{{\n",
    "            margin: 0 10px;\n",
    "            height: 50px;\n",
    "        }}\n",
    "        .container{{\n",
    "            display: flex;\n",
    "            flex-wrap: wrap;\n",
    "            justify-content: center;\n",
    "            padding: 20px;\n",
    "        }}\n",
    "        .plot-container{{\n",
    "            border: 2px solid #555;\n",
    "            margin: 10px;\n",
    "            padding: 10px;\n",
    "            width: {plot_width}px;\n",
    "            height: {plot_height}px;\n",
    "            overflow: hidden;\n",
    "            position: relative;\n",
    "            cursor: pointer;\n",
    "        }}\n",
    "        .insights{{\n",
    "            display: none;\n",
    "            position: absolute;\n",
    "            right: 10px;\n",
    "            top: 10px;\n",
    "            background-color: rgba(0,0,0,0.7);\n",
    "            padding: 5px;\n",
    "            border-radius: 5px;\n",
    "            color: #fff;\n",
    "        }}\n",
    "        .plot-container:hover .insights{{ \n",
    "            display: block;\n",
    "        }}\n",
    "        </style>\n",
    "        <script>\n",
    "             function openPlot(filename){{\n",
    "                 window.open(filename,'_blank');\n",
    "                 }}\n",
    "        </script>\n",
    "    </head>\n",
    "    <body>\n",
    "        <div class= \"header\">\n",
    "            <img src=\"https://www.keyweo.com/wp-content/uploads/2022/04/google-logo-history.jpg\" alt=\"Google logo\">\n",
    "            <h1>Google Play Store Review Analytics</h1>\n",
    "            <img src=\"https://www.sociocs.com/images/badge-google-play.png\" alt=\"Google Play Store Logo\">\n",
    "        </div>\n",
    "        <div class=\"container\">\n",
    "            {plots}\n",
    "        </div>\n",
    "    </body>\n",
    "    </html>\n",
    "    \"\"\""
   ]
  },
  {
   "cell_type": "code",
   "execution_count": 36,
   "id": "8fdb9017-e0dc-4325-95d6-fbdb9646e45e",
   "metadata": {},
   "outputs": [],
   "source": [
    "plot_width=400\n",
    "plot_height=300\n",
    "plot_bg_color='black'\n",
    "text_color='white'\n",
    "title_font={'size':16}\n",
    "axis_font={'size':12}\n"
   ]
  },
  {
   "cell_type": "code",
   "execution_count": null,
   "id": "efc5b257-0694-41fd-b8ba-cc72a10cb2c2",
   "metadata": {},
   "outputs": [],
   "source": []
  }
 ],
 "metadata": {
  "kernelspec": {
   "display_name": "Python [conda env:base] *",
   "language": "python",
   "name": "conda-base-py"
  },
  "language_info": {
   "codemirror_mode": {
    "name": "ipython",
    "version": 3
   },
   "file_extension": ".py",
   "mimetype": "text/x-python",
   "name": "python",
   "nbconvert_exporter": "python",
   "pygments_lexer": "ipython3",
   "version": "3.12.7"
  }
 },
 "nbformat": 4,
 "nbformat_minor": 5
}
