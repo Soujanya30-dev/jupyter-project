{
 "cells": [
  {
   "cell_type": "code",
   "execution_count": 1,
   "id": "5c09445d-e85f-441d-8126-2ccb24a02c54",
   "metadata": {},
   "outputs": [],
   "source": [
    "# Step 1: Importing Libraries\n",
    "import pandas as pd\n",
    "import numpy as np\n",
    "import plotly.express as px\n",
    "import plotly.graph_objects as go   \n",
    "import plotly.io as pio\n",
    "from plotly.subplots import make_subplots\n",
    "from datetime import datetime\n",
    "import pytz\n",
    "import nltk\n",
    "from nltk.sentiment.vader import SentimentIntensityAnalyzer\n",
    "import webbrowser\n",
    "import os"
   ]
  },
  {
   "cell_type": "code",
   "execution_count": 2,
   "id": "2dc0072a-7c14-4406-bbd3-57919ef0c812",
   "metadata": {},
   "outputs": [
    {
     "name": "stderr",
     "output_type": "stream",
     "text": [
      "[nltk_data] Downloading package vader_lexicon to\n",
      "[nltk_data]     C:\\Users\\souja\\AppData\\Roaming\\nltk_data...\n",
      "[nltk_data]   Package vader_lexicon is already up-to-date!\n"
     ]
    },
    {
     "data": {
      "text/plain": [
       "True"
      ]
     },
     "execution_count": 2,
     "metadata": {},
     "output_type": "execute_result"
    }
   ],
   "source": [
    "nltk.download('vader_lexicon')"
   ]
  },
  {
   "cell_type": "code",
   "execution_count": 3,
   "id": "dbc15a7d-688e-4a86-b7e7-7ad823a451f8",
   "metadata": {},
   "outputs": [],
   "source": [
    "##Create a dual-axis chart comparing the average installs and revenue for free vs. paid apps within the top 3 app categories. Apply filters to exclude\n",
    "#apps with fewer than 10,000 installs and revenue below $10,000 and android version should be more than 4.0 as well as size should be more than 15M \n",
    "#and content rating should be Everyone and app name should not have more than 30 characters including space and special character .this graph should\n",
    "#work only between 1 PM IST to 2 PM IST apart from that time we should not show this graph in dashboard itself."
   ]
  },
  {
   "cell_type": "code",
   "execution_count": 4,
   "id": "dc7b68f6-6125-4b5e-8e16-69a5c1cf6443",
   "metadata": {},
   "outputs": [],
   "source": [
    "apps_df=pd.read_csv('Play Store Data.csv')\n",
    "reviews_df=pd.read_csv('User Reviews.csv')"
   ]
  },
  {
   "cell_type": "code",
   "execution_count": 5,
   "id": "669cdbc0-b10f-42f8-8650-5c61cc57db31",
   "metadata": {},
   "outputs": [],
   "source": [
    "merged_df = pd.merge(apps_df, reviews_df, on='App', how='inner')"
   ]
  },
  {
   "cell_type": "code",
   "execution_count": 6,
   "id": "a3cdeae9-270c-4c5f-983c-b1c279dd5549",
   "metadata": {},
   "outputs": [
    {
     "data": {
      "text/html": [
       "<div>\n",
       "<style scoped>\n",
       "    .dataframe tbody tr th:only-of-type {\n",
       "        vertical-align: middle;\n",
       "    }\n",
       "\n",
       "    .dataframe tbody tr th {\n",
       "        vertical-align: top;\n",
       "    }\n",
       "\n",
       "    .dataframe thead th {\n",
       "        text-align: right;\n",
       "    }\n",
       "</style>\n",
       "<table border=\"1\" class=\"dataframe\">\n",
       "  <thead>\n",
       "    <tr style=\"text-align: right;\">\n",
       "      <th></th>\n",
       "      <th>App</th>\n",
       "      <th>Category</th>\n",
       "      <th>Rating</th>\n",
       "      <th>Reviews</th>\n",
       "      <th>Size</th>\n",
       "      <th>Installs</th>\n",
       "      <th>Type</th>\n",
       "      <th>Price</th>\n",
       "      <th>Content Rating</th>\n",
       "      <th>Genres</th>\n",
       "      <th>Last Updated</th>\n",
       "      <th>Current Ver</th>\n",
       "      <th>Android Ver</th>\n",
       "      <th>Translated_Review</th>\n",
       "      <th>Sentiment</th>\n",
       "      <th>Sentiment_Polarity</th>\n",
       "      <th>Sentiment_Subjectivity</th>\n",
       "    </tr>\n",
       "  </thead>\n",
       "  <tbody>\n",
       "    <tr>\n",
       "      <th>0</th>\n",
       "      <td>Coloring book moana</td>\n",
       "      <td>ART_AND_DESIGN</td>\n",
       "      <td>3.9</td>\n",
       "      <td>967</td>\n",
       "      <td>14M</td>\n",
       "      <td>500,000+</td>\n",
       "      <td>Free</td>\n",
       "      <td>0</td>\n",
       "      <td>Everyone</td>\n",
       "      <td>Art &amp; Design;Pretend Play</td>\n",
       "      <td>January 15, 2018</td>\n",
       "      <td>2.0.0</td>\n",
       "      <td>4.0.3 and up</td>\n",
       "      <td>A kid's excessive ads. The types ads allowed a...</td>\n",
       "      <td>Negative</td>\n",
       "      <td>-0.250</td>\n",
       "      <td>1.000000</td>\n",
       "    </tr>\n",
       "    <tr>\n",
       "      <th>1</th>\n",
       "      <td>Coloring book moana</td>\n",
       "      <td>ART_AND_DESIGN</td>\n",
       "      <td>3.9</td>\n",
       "      <td>967</td>\n",
       "      <td>14M</td>\n",
       "      <td>500,000+</td>\n",
       "      <td>Free</td>\n",
       "      <td>0</td>\n",
       "      <td>Everyone</td>\n",
       "      <td>Art &amp; Design;Pretend Play</td>\n",
       "      <td>January 15, 2018</td>\n",
       "      <td>2.0.0</td>\n",
       "      <td>4.0.3 and up</td>\n",
       "      <td>It bad &gt;:(</td>\n",
       "      <td>Negative</td>\n",
       "      <td>-0.725</td>\n",
       "      <td>0.833333</td>\n",
       "    </tr>\n",
       "    <tr>\n",
       "      <th>2</th>\n",
       "      <td>Coloring book moana</td>\n",
       "      <td>ART_AND_DESIGN</td>\n",
       "      <td>3.9</td>\n",
       "      <td>967</td>\n",
       "      <td>14M</td>\n",
       "      <td>500,000+</td>\n",
       "      <td>Free</td>\n",
       "      <td>0</td>\n",
       "      <td>Everyone</td>\n",
       "      <td>Art &amp; Design;Pretend Play</td>\n",
       "      <td>January 15, 2018</td>\n",
       "      <td>2.0.0</td>\n",
       "      <td>4.0.3 and up</td>\n",
       "      <td>like</td>\n",
       "      <td>Neutral</td>\n",
       "      <td>0.000</td>\n",
       "      <td>0.000000</td>\n",
       "    </tr>\n",
       "    <tr>\n",
       "      <th>3</th>\n",
       "      <td>Coloring book moana</td>\n",
       "      <td>ART_AND_DESIGN</td>\n",
       "      <td>3.9</td>\n",
       "      <td>967</td>\n",
       "      <td>14M</td>\n",
       "      <td>500,000+</td>\n",
       "      <td>Free</td>\n",
       "      <td>0</td>\n",
       "      <td>Everyone</td>\n",
       "      <td>Art &amp; Design;Pretend Play</td>\n",
       "      <td>January 15, 2018</td>\n",
       "      <td>2.0.0</td>\n",
       "      <td>4.0.3 and up</td>\n",
       "      <td>NaN</td>\n",
       "      <td>NaN</td>\n",
       "      <td>NaN</td>\n",
       "      <td>NaN</td>\n",
       "    </tr>\n",
       "    <tr>\n",
       "      <th>4</th>\n",
       "      <td>Coloring book moana</td>\n",
       "      <td>ART_AND_DESIGN</td>\n",
       "      <td>3.9</td>\n",
       "      <td>967</td>\n",
       "      <td>14M</td>\n",
       "      <td>500,000+</td>\n",
       "      <td>Free</td>\n",
       "      <td>0</td>\n",
       "      <td>Everyone</td>\n",
       "      <td>Art &amp; Design;Pretend Play</td>\n",
       "      <td>January 15, 2018</td>\n",
       "      <td>2.0.0</td>\n",
       "      <td>4.0.3 and up</td>\n",
       "      <td>I love colors inspyering</td>\n",
       "      <td>Positive</td>\n",
       "      <td>0.500</td>\n",
       "      <td>0.600000</td>\n",
       "    </tr>\n",
       "    <tr>\n",
       "      <th>...</th>\n",
       "      <td>...</td>\n",
       "      <td>...</td>\n",
       "      <td>...</td>\n",
       "      <td>...</td>\n",
       "      <td>...</td>\n",
       "      <td>...</td>\n",
       "      <td>...</td>\n",
       "      <td>...</td>\n",
       "      <td>...</td>\n",
       "      <td>...</td>\n",
       "      <td>...</td>\n",
       "      <td>...</td>\n",
       "      <td>...</td>\n",
       "      <td>...</td>\n",
       "      <td>...</td>\n",
       "      <td>...</td>\n",
       "      <td>...</td>\n",
       "    </tr>\n",
       "    <tr>\n",
       "      <th>122657</th>\n",
       "      <td>FP Notebook</td>\n",
       "      <td>MEDICAL</td>\n",
       "      <td>4.5</td>\n",
       "      <td>410</td>\n",
       "      <td>60M</td>\n",
       "      <td>50,000+</td>\n",
       "      <td>Free</td>\n",
       "      <td>0</td>\n",
       "      <td>Everyone</td>\n",
       "      <td>Medical</td>\n",
       "      <td>March 24, 2018</td>\n",
       "      <td>2.1.0.372</td>\n",
       "      <td>4.4 and up</td>\n",
       "      <td>NaN</td>\n",
       "      <td>NaN</td>\n",
       "      <td>NaN</td>\n",
       "      <td>NaN</td>\n",
       "    </tr>\n",
       "    <tr>\n",
       "      <th>122658</th>\n",
       "      <td>FP Notebook</td>\n",
       "      <td>MEDICAL</td>\n",
       "      <td>4.5</td>\n",
       "      <td>410</td>\n",
       "      <td>60M</td>\n",
       "      <td>50,000+</td>\n",
       "      <td>Free</td>\n",
       "      <td>0</td>\n",
       "      <td>Everyone</td>\n",
       "      <td>Medical</td>\n",
       "      <td>March 24, 2018</td>\n",
       "      <td>2.1.0.372</td>\n",
       "      <td>4.4 and up</td>\n",
       "      <td>NaN</td>\n",
       "      <td>NaN</td>\n",
       "      <td>NaN</td>\n",
       "      <td>NaN</td>\n",
       "    </tr>\n",
       "    <tr>\n",
       "      <th>122659</th>\n",
       "      <td>FP Notebook</td>\n",
       "      <td>MEDICAL</td>\n",
       "      <td>4.5</td>\n",
       "      <td>410</td>\n",
       "      <td>60M</td>\n",
       "      <td>50,000+</td>\n",
       "      <td>Free</td>\n",
       "      <td>0</td>\n",
       "      <td>Everyone</td>\n",
       "      <td>Medical</td>\n",
       "      <td>March 24, 2018</td>\n",
       "      <td>2.1.0.372</td>\n",
       "      <td>4.4 and up</td>\n",
       "      <td>NaN</td>\n",
       "      <td>NaN</td>\n",
       "      <td>NaN</td>\n",
       "      <td>NaN</td>\n",
       "    </tr>\n",
       "    <tr>\n",
       "      <th>122660</th>\n",
       "      <td>FP Notebook</td>\n",
       "      <td>MEDICAL</td>\n",
       "      <td>4.5</td>\n",
       "      <td>410</td>\n",
       "      <td>60M</td>\n",
       "      <td>50,000+</td>\n",
       "      <td>Free</td>\n",
       "      <td>0</td>\n",
       "      <td>Everyone</td>\n",
       "      <td>Medical</td>\n",
       "      <td>March 24, 2018</td>\n",
       "      <td>2.1.0.372</td>\n",
       "      <td>4.4 and up</td>\n",
       "      <td>NaN</td>\n",
       "      <td>NaN</td>\n",
       "      <td>NaN</td>\n",
       "      <td>NaN</td>\n",
       "    </tr>\n",
       "    <tr>\n",
       "      <th>122661</th>\n",
       "      <td>FP Notebook</td>\n",
       "      <td>MEDICAL</td>\n",
       "      <td>4.5</td>\n",
       "      <td>410</td>\n",
       "      <td>60M</td>\n",
       "      <td>50,000+</td>\n",
       "      <td>Free</td>\n",
       "      <td>0</td>\n",
       "      <td>Everyone</td>\n",
       "      <td>Medical</td>\n",
       "      <td>March 24, 2018</td>\n",
       "      <td>2.1.0.372</td>\n",
       "      <td>4.4 and up</td>\n",
       "      <td>NaN</td>\n",
       "      <td>NaN</td>\n",
       "      <td>NaN</td>\n",
       "      <td>NaN</td>\n",
       "    </tr>\n",
       "  </tbody>\n",
       "</table>\n",
       "<p>122662 rows × 17 columns</p>\n",
       "</div>"
      ],
      "text/plain": [
       "                        App        Category  Rating Reviews Size  Installs  \\\n",
       "0       Coloring book moana  ART_AND_DESIGN     3.9     967  14M  500,000+   \n",
       "1       Coloring book moana  ART_AND_DESIGN     3.9     967  14M  500,000+   \n",
       "2       Coloring book moana  ART_AND_DESIGN     3.9     967  14M  500,000+   \n",
       "3       Coloring book moana  ART_AND_DESIGN     3.9     967  14M  500,000+   \n",
       "4       Coloring book moana  ART_AND_DESIGN     3.9     967  14M  500,000+   \n",
       "...                     ...             ...     ...     ...  ...       ...   \n",
       "122657          FP Notebook         MEDICAL     4.5     410  60M   50,000+   \n",
       "122658          FP Notebook         MEDICAL     4.5     410  60M   50,000+   \n",
       "122659          FP Notebook         MEDICAL     4.5     410  60M   50,000+   \n",
       "122660          FP Notebook         MEDICAL     4.5     410  60M   50,000+   \n",
       "122661          FP Notebook         MEDICAL     4.5     410  60M   50,000+   \n",
       "\n",
       "        Type Price Content Rating                     Genres  \\\n",
       "0       Free     0       Everyone  Art & Design;Pretend Play   \n",
       "1       Free     0       Everyone  Art & Design;Pretend Play   \n",
       "2       Free     0       Everyone  Art & Design;Pretend Play   \n",
       "3       Free     0       Everyone  Art & Design;Pretend Play   \n",
       "4       Free     0       Everyone  Art & Design;Pretend Play   \n",
       "...      ...   ...            ...                        ...   \n",
       "122657  Free     0       Everyone                    Medical   \n",
       "122658  Free     0       Everyone                    Medical   \n",
       "122659  Free     0       Everyone                    Medical   \n",
       "122660  Free     0       Everyone                    Medical   \n",
       "122661  Free     0       Everyone                    Medical   \n",
       "\n",
       "            Last Updated Current Ver   Android Ver  \\\n",
       "0       January 15, 2018       2.0.0  4.0.3 and up   \n",
       "1       January 15, 2018       2.0.0  4.0.3 and up   \n",
       "2       January 15, 2018       2.0.0  4.0.3 and up   \n",
       "3       January 15, 2018       2.0.0  4.0.3 and up   \n",
       "4       January 15, 2018       2.0.0  4.0.3 and up   \n",
       "...                  ...         ...           ...   \n",
       "122657    March 24, 2018   2.1.0.372    4.4 and up   \n",
       "122658    March 24, 2018   2.1.0.372    4.4 and up   \n",
       "122659    March 24, 2018   2.1.0.372    4.4 and up   \n",
       "122660    March 24, 2018   2.1.0.372    4.4 and up   \n",
       "122661    March 24, 2018   2.1.0.372    4.4 and up   \n",
       "\n",
       "                                        Translated_Review Sentiment  \\\n",
       "0       A kid's excessive ads. The types ads allowed a...  Negative   \n",
       "1                                              It bad >:(  Negative   \n",
       "2                                                    like   Neutral   \n",
       "3                                                     NaN       NaN   \n",
       "4                                I love colors inspyering  Positive   \n",
       "...                                                   ...       ...   \n",
       "122657                                                NaN       NaN   \n",
       "122658                                                NaN       NaN   \n",
       "122659                                                NaN       NaN   \n",
       "122660                                                NaN       NaN   \n",
       "122661                                                NaN       NaN   \n",
       "\n",
       "        Sentiment_Polarity  Sentiment_Subjectivity  \n",
       "0                   -0.250                1.000000  \n",
       "1                   -0.725                0.833333  \n",
       "2                    0.000                0.000000  \n",
       "3                      NaN                     NaN  \n",
       "4                    0.500                0.600000  \n",
       "...                    ...                     ...  \n",
       "122657                 NaN                     NaN  \n",
       "122658                 NaN                     NaN  \n",
       "122659                 NaN                     NaN  \n",
       "122660                 NaN                     NaN  \n",
       "122661                 NaN                     NaN  \n",
       "\n",
       "[122662 rows x 17 columns]"
      ]
     },
     "execution_count": 6,
     "metadata": {},
     "output_type": "execute_result"
    }
   ],
   "source": [
    "merged_df"
   ]
  },
  {
   "cell_type": "code",
   "execution_count": 7,
   "id": "41e950a9-7cb7-4252-b1b6-ffb672ae7f99",
   "metadata": {},
   "outputs": [],
   "source": [
    "#Step 2: Data Cleaning"
   ]
  },
  {
   "cell_type": "code",
   "execution_count": 8,
   "id": "e0f34baa-c6ed-4902-821f-a2ba0a6dbd28",
   "metadata": {},
   "outputs": [],
   "source": [
    "merged_df['Price'] = merged_df['Price'].replace(r'[\\$,]', '', regex=True).astype(float)"
   ]
  },
  {
   "cell_type": "code",
   "execution_count": 9,
   "id": "5db63e5b-704c-4764-a344-1c78fb08edbb",
   "metadata": {},
   "outputs": [],
   "source": [
    "merged_df['Installs'] = (\n",
    "    merged_df['Installs'].astype(str)\n",
    "    .str.replace(',', '', regex=False)\n",
    "    .str.replace('+', '', regex=False)\n",
    "    .astype(int)\n",
    ")"
   ]
  },
  {
   "cell_type": "code",
   "execution_count": 10,
   "id": "14f943a0-ecc7-4622-9dc7-d3720851ae78",
   "metadata": {},
   "outputs": [],
   "source": [
    "merged_df['Android Ver'] = (\n",
    "    merged_df['Android Ver'].astype(str)\n",
    "    .str.extract(r'(\\d+\\.?\\d*)')   # extract first number like 4.0 or 4.1.2\n",
    "    .astype(float)\n",
    ")"
   ]
  },
  {
   "cell_type": "code",
   "execution_count": 11,
   "id": "ded25464-c6b2-4b39-929a-e35978382054",
   "metadata": {},
   "outputs": [],
   "source": [
    "def convert_size(size):\n",
    "    if pd.isna(size):\n",
    "        return np.nan\n",
    "    size = str(size).strip()\n",
    "    if 'M' in size:         # size in MB\n",
    "        return float(size.replace('M', ''))\n",
    "    elif 'k' in size:       # size in KB\n",
    "        return float(size.replace('k', '')) / 1024\n",
    "    else:\n",
    "        return np.nan\n",
    "\n",
    "merged_df['Size'] = merged_df['Size'].apply(convert_size)"
   ]
  },
  {
   "cell_type": "code",
   "execution_count": 12,
   "id": "46172f5a-f22a-429c-b5d1-be88e1e54b23",
   "metadata": {},
   "outputs": [],
   "source": [
    "merged_df['Revenue'] = merged_df['Price'] * merged_df['Installs']\n"
   ]
  },
  {
   "cell_type": "code",
   "execution_count": 13,
   "id": "699ab452-c2e0-40f4-8009-d157e6987c2f",
   "metadata": {},
   "outputs": [],
   "source": [
    "merged_df = merged_df[\n",
    "    (merged_df['Installs'] >= 10000) &\n",
    "    (\n",
    "        ((merged_df['Type'] == 'Paid') & (merged_df['Revenue'] >= 10000)) |\n",
    "        (merged_df['Type'] == 'Free')\n",
    "    ) &\n",
    "    (merged_df['Android Ver'] > 4.0) &\n",
    "    (merged_df['Size'] > 15) &\n",
    "    (merged_df['Content Rating'] == 'Everyone') &\n",
    "    (merged_df['App'].str.len() <= 30)\n",
    "].copy()"
   ]
  },
  {
   "cell_type": "code",
   "execution_count": 14,
   "id": "3e74670a-7068-495a-9270-efccd315652f",
   "metadata": {},
   "outputs": [],
   "source": [
    "#Step 3:Data Transmission"
   ]
  },
  {
   "cell_type": "code",
   "execution_count": 15,
   "id": "c37a7a73-541c-4b69-81ca-cc470cc5c062",
   "metadata": {},
   "outputs": [],
   "source": [
    "grouped_df = merged_df.groupby(['Category', 'Type']).agg(\n",
    "    Avg_Installs=('Installs', 'mean'),\n",
    "    Avg_Revenue=('Revenue', 'mean')\n",
    ").reset_index()"
   ]
  },
  {
   "cell_type": "code",
   "execution_count": 16,
   "id": "42309e65-33b1-43a4-ac08-348479f5c246",
   "metadata": {},
   "outputs": [],
   "source": [
    "grouped_df['Avg_Installs'] = grouped_df['Avg_Installs'].round(0)\n",
    "grouped_df['Avg_Revenue'] = grouped_df['Avg_Revenue'].round(2)\n"
   ]
  },
  {
   "cell_type": "code",
   "execution_count": 17,
   "id": "59774f85-2324-44de-be0e-ff3dce04c6de",
   "metadata": {},
   "outputs": [],
   "source": [
    "top_categories = (\n",
    "    grouped_df.groupby('Category')['Avg_Installs'].sum()\n",
    "    .sort_values(ascending=False)\n",
    "    .head(3)\n",
    "    .index\n",
    ")"
   ]
  },
  {
   "cell_type": "code",
   "execution_count": 18,
   "id": "b4fbca7b-9a5f-4e9c-91d4-38cb9401ffca",
   "metadata": {},
   "outputs": [
    {
     "name": "stdout",
     "output_type": "stream",
     "text": [
      "   Category  Type  Avg_Installs  Avg_Revenue\n",
      "8    FAMILY  Free    68362185.0          0.0\n",
      "11     GAME  Free   165061728.0          0.0\n",
      "24   SPORTS  Free    20594595.0          0.0\n",
      "25   SPORTS  Paid       50000.0    1499500.0\n",
      "Type\n",
      "Free    3\n",
      "Paid    1\n",
      "Name: count, dtype: int64\n"
     ]
    }
   ],
   "source": [
    "top3 = grouped_df[grouped_df['Category'].isin(top_categories)].copy()\n",
    "\n",
    "print(top3)\n",
    "print(top3['Type'].value_counts())"
   ]
  },
  {
   "cell_type": "code",
   "execution_count": 19,
   "id": "6c197518-e441-437e-8c9b-6950759b41b6",
   "metadata": {},
   "outputs": [],
   "source": [
    "#Step 4:Sentimental Analysis "
   ]
  },
  {
   "cell_type": "code",
   "execution_count": 20,
   "id": "4ef1c255-db93-49ac-a63c-98828a2fcd9c",
   "metadata": {},
   "outputs": [],
   "source": [
    "sia = SentimentIntensityAnalyzer()"
   ]
  },
  {
   "cell_type": "code",
   "execution_count": 21,
   "id": "2445a157-a8b8-41e5-a79a-4889565d0b43",
   "metadata": {},
   "outputs": [],
   "source": [
    "merged_df['Sentiment_Score'] = merged_df['Translated_Review'].fillna('').apply(lambda x: sia.polarity_scores(x)['compound'])\n"
   ]
  },
  {
   "cell_type": "code",
   "execution_count": 22,
   "id": "8bd5e243-45cf-46a9-9039-08695ce46dd7",
   "metadata": {},
   "outputs": [],
   "source": [
    "def label_sentiment(score):\n",
    "    if score >= 0.05:\n",
    "        return 'Positive'\n",
    "    elif score <= -0.05:\n",
    "        return 'Negative'\n",
    "    else:\n",
    "        return 'Neutral'\n",
    "\n",
    "merged_df['Sentiment'] = merged_df['Sentiment_Score'].apply(label_sentiment)\n"
   ]
  },
  {
   "cell_type": "code",
   "execution_count": 23,
   "id": "7a8de04f-0d10-43af-81bf-3235ebf85264",
   "metadata": {},
   "outputs": [
    {
     "name": "stdout",
     "output_type": "stream",
     "text": [
      "              Category  Type  Avg_Sentiment\n",
      "0    AUTO_AND_VEHICLES  Free       0.276250\n",
      "1               BEAUTY  Free       0.000000\n",
      "2  BOOKS_AND_REFERENCE  Free       0.294462\n",
      "3             BUSINESS  Free       0.065426\n",
      "4               COMICS  Free       0.000000\n"
     ]
    }
   ],
   "source": [
    "sentiment_summary = merged_df.groupby(['Category', 'Type']).agg(\n",
    "    Avg_Sentiment=('Sentiment_Score', 'mean')\n",
    ").reset_index()\n",
    "\n",
    "print(sentiment_summary.head())"
   ]
  },
  {
   "cell_type": "code",
   "execution_count": 24,
   "id": "b3178fbc-3b7a-445b-b7b2-6f7234bad9bd",
   "metadata": {},
   "outputs": [],
   "source": [
    "#Step 5:Plotting graph"
   ]
  },
  {
   "cell_type": "code",
   "execution_count": 25,
   "id": "2028541d-0254-4598-874e-7a630a32308f",
   "metadata": {},
   "outputs": [],
   "source": [
    "html_files_paths=\"./\"\n",
    "if not os.path.exists(html_files_paths):\n",
    "    os.makedirs(html_files_path)"
   ]
  },
  {
   "cell_type": "code",
   "execution_count": 26,
   "id": "8b324f47-3d2a-426a-91cf-2579554d7553",
   "metadata": {},
   "outputs": [],
   "source": [
    "plot_containers=\"\""
   ]
  },
  {
   "cell_type": "code",
   "execution_count": 27,
   "id": "d156d88e-a63f-4276-9ca4-6143c23b8e7c",
   "metadata": {},
   "outputs": [],
   "source": [
    "def save_plot_as_html(fig,filename,insight):\n",
    "    global plot_containers\n",
    "    filepath= os.path.join(html_files_paths,filename)\n",
    "    html_content=pio.to_html(fig,full_html=False,include_plotlyjs='inline')\n",
    "    plot_containers+= f\"\"\"\n",
    "    <div class =\"plot-container\" id=\"{filename}\" onclick =\"openPlot('{filename}')\">\n",
    "       <div class=\"plot\">{html_content}</div> \n",
    "       <div class=\"insights\">{insight}</div>\n",
    "    </div>\n",
    "    \"\"\"\n",
    "    fig.write_html(filepath,full_html=False,include_plotlyjs=\"inline\")\n"
   ]
  },
  {
   "cell_type": "code",
   "execution_count": 28,
   "id": "ce40d264-036b-4995-8f2c-b574bd900d02",
   "metadata": {},
   "outputs": [],
   "source": [
    "pivot_df = top3.pivot(index='Category', columns='Type', values=['Avg_Installs','Avg_Revenue']).fillna(0)\n",
    "pivot_df.columns = ['_'.join(col).strip() for col in pivot_df.columns.values]\n",
    "pivot_df = pivot_df.reset_index()"
   ]
  },
  {
   "cell_type": "code",
   "execution_count": 29,
   "id": "9641e6eb-5f82-4101-bcfe-edec0dbf5058",
   "metadata": {},
   "outputs": [
    {
     "name": "stdout",
     "output_type": "stream",
     "text": [
      "Graph is only available between 1 PM and 2 PM IST.\n"
     ]
    }
   ],
   "source": [
    "ist = pytz.timezone(\"Asia/Kolkata\")\n",
    "now = datetime.now(ist)\n",
    "\n",
    "if 13 <= now.hour < 14:\n",
    "\n",
    "    fig = make_subplots(specs=[[{\"secondary_y\": True}]])\n",
    "\n",
    "    fig.add_trace(go.Bar(x=pivot_df['Category'], y=pivot_df['Avg_Installs_Free'], name='Free Installs', marker_color='blue'), secondary_y=False)\n",
    "    fig.add_trace(go.Bar(x=pivot_df['Category'], y=pivot_df['Avg_Installs_Paid'], name='Paid Installs', marker_color='green'), secondary_y=False)\n",
    "\n",
    "    fig.add_trace(go.Scatter(x=pivot_df['Category'], y=pivot_df['Avg_Revenue_Free'], mode='lines+markers', name='Free Revenue', marker=dict(color='yellow', size=10)), secondary_y=True)\n",
    "    fig.add_trace(go.Scatter(x=pivot_df['Category'], y=pivot_df['Avg_Revenue_Paid'], mode='lines+markers', name='Paid Revenue', marker=dict(color='red', size=10)), secondary_y=True)\n",
    "\n",
    "    fig.update_layout(\n",
    "        title=\"Average Installs vs Revenue (Free vs Paid) - Top 3 Categories\",\n",
    "        plot_bgcolor='black',\n",
    "        paper_bgcolor='black',\n",
    "        font_color='white',\n",
    "        barmode='group'\n",
    "    )\n",
    "    fig.update_yaxes(title_text=\"Average Installs\", type='log', secondary_y=False)\n",
    "    fig.update_yaxes(title_text=\"Average Revenue\", secondary_y=True)\n",
    "\n",
    "    fig.show()\n",
    "\n",
    "else:\n",
    "    print(\"Graph is only available between 1 PM and 2 PM IST.\")\n"
   ]
  },
  {
   "cell_type": "code",
   "execution_count": 30,
   "id": "be2b6563-378b-49b5-84b3-7e81db95019d",
   "metadata": {},
   "outputs": [],
   "source": [
    "plot_containers_split=plot_containers.split('</div')"
   ]
  },
  {
   "cell_type": "code",
   "execution_count": 31,
   "id": "16c68221-0c6a-4016-9f61-8c431c2e6ea3",
   "metadata": {},
   "outputs": [],
   "source": [
    "if len(plot_containers_split) > 1:\n",
    "    final_plot=plot_containers_split[-2]+'</div>'\n",
    "else:\n",
    "    final_plot=plot_containers"
   ]
  },
  {
   "cell_type": "code",
   "execution_count": 32,
   "id": "cb0f504f-5dd5-4c4d-a766-d45f75dba23d",
   "metadata": {},
   "outputs": [],
   "source": [
    "dashboard_html= \"\"\"\n",
    "<!DOCTYPE html>\n",
    "<html lang=\"en\">\n",
    "<head>\n",
    "     <meta charset=\"UTF-8\">\n",
    "     <meta name=viewport\" content=\"width=device-width,initial-scale-1.0\">\n",
    "     <title>Google Play Store Review Analytics</title>\n",
    "     <style>\n",
    "        body {{ \n",
    "            font-family: Arial, sans-serif;\n",
    "            background-color: #333;\n",
    "            color: #fff;\n",
    "            margin: 0;\n",
    "            padding: 0;\n",
    "         }}\n",
    "         .header{{\n",
    "            display: flex;\n",
    "            align-items: center;\n",
    "            justify-content: center;\n",
    "            padding: 20px;\n",
    "            background-color: #444;\n",
    "        }}\n",
    "        .header img{{\n",
    "            margin: 0 10px;\n",
    "            height: 50px;\n",
    "        }}\n",
    "        .container{{\n",
    "            display: flex;\n",
    "            flex-wrap: wrap;\n",
    "            justify-content: center;\n",
    "            padding: 20px;\n",
    "        }}\n",
    "        .plot-container{{\n",
    "            border: 2px solid #555;\n",
    "            margin: 10px;\n",
    "            padding: 10px;\n",
    "            width: {plot_width}px;\n",
    "            height: {plot_height}px;\n",
    "            overflow: hidden;\n",
    "            position: relative;\n",
    "            cursor: pointer;\n",
    "        }}\n",
    "        .insights{{\n",
    "            display: none;\n",
    "            position: absolute;\n",
    "            right: 10px;\n",
    "            top: 10px;\n",
    "            background-color: rgba(0,0,0,0.7);\n",
    "            padding: 5px;\n",
    "            border-radius: 5px;\n",
    "            color: #fff;\n",
    "        }}\n",
    "        .plot-container:hover .insights{{ \n",
    "            display: block;\n",
    "        }}\n",
    "        </style>\n",
    "        <script>\n",
    "             function openPlot(filename){{\n",
    "                 window.open(filename,'_blank');\n",
    "                 }}\n",
    "        </script>\n",
    "    </head>\n",
    "    <body>\n",
    "        <div class= \"header\">\n",
    "            <img src=\"https://www.keyweo.com/wp-content/uploads/2022/04/google-logo-history.jpg\" alt=\"Google logo\">\n",
    "            <h1>Google Play Store Review Analytics</h1>\n",
    "            <img src=\"https://www.sociocs.com/images/badge-google-play.png\" alt=\"Google Play Store Logo\">\n",
    "        </div>\n",
    "        <div class=\"container\">\n",
    "            {plots}\n",
    "        </div>\n",
    "    </body>\n",
    "    </html>\n",
    "    \"\"\""
   ]
  },
  {
   "cell_type": "code",
   "execution_count": 33,
   "id": "8ee4268f-ff8c-496e-97f2-3a3089d684b9",
   "metadata": {},
   "outputs": [],
   "source": [
    "plot_width=400\n",
    "plot_height=300\n",
    "plot_bg_color='black'\n",
    "text_color='white'\n",
    "title_font={'size':16}\n",
    "axis_font={'size':12}\n"
   ]
  },
  {
   "cell_type": "code",
   "execution_count": 34,
   "id": "fc72bdc2-ebf1-4b51-b2b6-2ff5531698ec",
   "metadata": {},
   "outputs": [],
   "source": [
    "final_html=dashboard_html.format(plots=plot_containers, plot_width=plot_width, plot_height=plot_height)"
   ]
  },
  {
   "cell_type": "code",
   "execution_count": 35,
   "id": "c0840cc6-c8da-48a9-8011-20f1682c591d",
   "metadata": {},
   "outputs": [],
   "source": [
    "dashboard_path=os.path.join(html_files_paths,\"web page.html\")"
   ]
  },
  {
   "cell_type": "code",
   "execution_count": 36,
   "id": "faed7812-2419-47f4-9d0a-b0d0de3e0dd2",
   "metadata": {},
   "outputs": [],
   "source": [
    "with open(dashboard_path, \"w\", encoding=\"utf-8\") as f:\n",
    "    f.write(final_html)"
   ]
  },
  {
   "cell_type": "code",
   "execution_count": 37,
   "id": "a4e203bb-74a4-44ac-87c1-522fa0978862",
   "metadata": {},
   "outputs": [
    {
     "data": {
      "text/plain": [
       "True"
      ]
     },
     "execution_count": 37,
     "metadata": {},
     "output_type": "execute_result"
    }
   ],
   "source": [
    "webbrowser.open('file://'+os.path.realpath(dashboard_path))"
   ]
  },
  {
   "cell_type": "code",
   "execution_count": null,
   "id": "0f536496-8355-4383-b8e4-d1381560e4a8",
   "metadata": {},
   "outputs": [],
   "source": []
  }
 ],
 "metadata": {
  "kernelspec": {
   "display_name": "Python [conda env:base] *",
   "language": "python",
   "name": "conda-base-py"
  },
  "language_info": {
   "codemirror_mode": {
    "name": "ipython",
    "version": 3
   },
   "file_extension": ".py",
   "mimetype": "text/x-python",
   "name": "python",
   "nbconvert_exporter": "python",
   "pygments_lexer": "ipython3",
   "version": "3.12.7"
  }
 },
 "nbformat": 4,
 "nbformat_minor": 5
}
